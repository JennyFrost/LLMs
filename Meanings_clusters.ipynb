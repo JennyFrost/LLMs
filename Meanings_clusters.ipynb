{
  "nbformat": 4,
  "nbformat_minor": 0,
  "metadata": {
    "colab": {
      "provenance": [],
      "authorship_tag": "ABX9TyMfmYANzT5CsDE3BcuGX+Fc",
      "include_colab_link": true
    },
    "kernelspec": {
      "name": "python3",
      "display_name": "Python 3"
    },
    "language_info": {
      "name": "python"
    },
    "widgets": {
      "application/vnd.jupyter.widget-state+json": {
        "a1958e05e94b4c03a984017e4fe9a2f6": {
          "model_module": "@jupyter-widgets/controls",
          "model_name": "HBoxModel",
          "model_module_version": "1.5.0",
          "state": {
            "_view_name": "HBoxView",
            "_dom_classes": [],
            "_model_name": "HBoxModel",
            "_view_module": "@jupyter-widgets/controls",
            "_model_module_version": "1.5.0",
            "_view_count": null,
            "_view_module_version": "1.5.0",
            "box_style": "",
            "layout": "IPY_MODEL_e705af2fc44b4505a64117f1f1c29700",
            "_model_module": "@jupyter-widgets/controls",
            "children": [
              "IPY_MODEL_a8fbdf1a94f44cdca4de82079d2e58e6",
              "IPY_MODEL_fe19636da1fc4d33b4d48a3130a0e762",
              "IPY_MODEL_4af859d63b2e43d4b3554a5564eb4469"
            ]
          }
        },
        "e705af2fc44b4505a64117f1f1c29700": {
          "model_module": "@jupyter-widgets/base",
          "model_name": "LayoutModel",
          "model_module_version": "1.2.0",
          "state": {
            "_view_name": "LayoutView",
            "grid_template_rows": null,
            "right": null,
            "justify_content": null,
            "_view_module": "@jupyter-widgets/base",
            "overflow": null,
            "_model_module_version": "1.2.0",
            "_view_count": null,
            "flex_flow": null,
            "width": null,
            "min_width": null,
            "border": null,
            "align_items": null,
            "bottom": null,
            "_model_module": "@jupyter-widgets/base",
            "top": null,
            "grid_column": null,
            "overflow_y": null,
            "overflow_x": null,
            "grid_auto_flow": null,
            "grid_area": null,
            "grid_template_columns": null,
            "flex": null,
            "_model_name": "LayoutModel",
            "justify_items": null,
            "grid_row": null,
            "max_height": null,
            "align_content": null,
            "visibility": null,
            "align_self": null,
            "height": null,
            "min_height": null,
            "padding": null,
            "grid_auto_rows": null,
            "grid_gap": null,
            "max_width": null,
            "order": null,
            "_view_module_version": "1.2.0",
            "grid_template_areas": null,
            "object_position": null,
            "object_fit": null,
            "grid_auto_columns": null,
            "margin": null,
            "display": null,
            "left": null
          }
        },
        "a8fbdf1a94f44cdca4de82079d2e58e6": {
          "model_module": "@jupyter-widgets/controls",
          "model_name": "HTMLModel",
          "model_module_version": "1.5.0",
          "state": {
            "_view_name": "HTMLView",
            "style": "IPY_MODEL_a3e9f26919284335aeabbce52bb89330",
            "_dom_classes": [],
            "description": "",
            "_model_name": "HTMLModel",
            "placeholder": "​",
            "_view_module": "@jupyter-widgets/controls",
            "_model_module_version": "1.5.0",
            "value": "Downloading: 100%",
            "_view_count": null,
            "_view_module_version": "1.5.0",
            "description_tooltip": null,
            "_model_module": "@jupyter-widgets/controls",
            "layout": "IPY_MODEL_b6c777f3e55c4613ba0eae5cd6f77443"
          }
        },
        "fe19636da1fc4d33b4d48a3130a0e762": {
          "model_module": "@jupyter-widgets/controls",
          "model_name": "FloatProgressModel",
          "model_module_version": "1.5.0",
          "state": {
            "_view_name": "ProgressView",
            "style": "IPY_MODEL_129fc7746ff94d0284c6e1cc3487da8b",
            "_dom_classes": [],
            "description": "",
            "_model_name": "FloatProgressModel",
            "bar_style": "success",
            "max": 29,
            "_view_module": "@jupyter-widgets/controls",
            "_model_module_version": "1.5.0",
            "value": 29,
            "_view_count": null,
            "_view_module_version": "1.5.0",
            "orientation": "horizontal",
            "min": 0,
            "description_tooltip": null,
            "_model_module": "@jupyter-widgets/controls",
            "layout": "IPY_MODEL_11f19a5b20684838975a805f1ff7bb2d"
          }
        },
        "4af859d63b2e43d4b3554a5564eb4469": {
          "model_module": "@jupyter-widgets/controls",
          "model_name": "HTMLModel",
          "model_module_version": "1.5.0",
          "state": {
            "_view_name": "HTMLView",
            "style": "IPY_MODEL_ed205e4f0e4f4b10b4a6f092b06fa6f3",
            "_dom_classes": [],
            "description": "",
            "_model_name": "HTMLModel",
            "placeholder": "​",
            "_view_module": "@jupyter-widgets/controls",
            "_model_module_version": "1.5.0",
            "value": " 29.0/29.0 [00:00&lt;00:00, 143B/s]",
            "_view_count": null,
            "_view_module_version": "1.5.0",
            "description_tooltip": null,
            "_model_module": "@jupyter-widgets/controls",
            "layout": "IPY_MODEL_4973b5823d8c4ba59745687a3bcfc6b5"
          }
        },
        "a3e9f26919284335aeabbce52bb89330": {
          "model_module": "@jupyter-widgets/controls",
          "model_name": "DescriptionStyleModel",
          "model_module_version": "1.5.0",
          "state": {
            "_view_name": "StyleView",
            "_model_name": "DescriptionStyleModel",
            "description_width": "",
            "_view_module": "@jupyter-widgets/base",
            "_model_module_version": "1.5.0",
            "_view_count": null,
            "_view_module_version": "1.2.0",
            "_model_module": "@jupyter-widgets/controls"
          }
        },
        "b6c777f3e55c4613ba0eae5cd6f77443": {
          "model_module": "@jupyter-widgets/base",
          "model_name": "LayoutModel",
          "model_module_version": "1.2.0",
          "state": {
            "_view_name": "LayoutView",
            "grid_template_rows": null,
            "right": null,
            "justify_content": null,
            "_view_module": "@jupyter-widgets/base",
            "overflow": null,
            "_model_module_version": "1.2.0",
            "_view_count": null,
            "flex_flow": null,
            "width": null,
            "min_width": null,
            "border": null,
            "align_items": null,
            "bottom": null,
            "_model_module": "@jupyter-widgets/base",
            "top": null,
            "grid_column": null,
            "overflow_y": null,
            "overflow_x": null,
            "grid_auto_flow": null,
            "grid_area": null,
            "grid_template_columns": null,
            "flex": null,
            "_model_name": "LayoutModel",
            "justify_items": null,
            "grid_row": null,
            "max_height": null,
            "align_content": null,
            "visibility": null,
            "align_self": null,
            "height": null,
            "min_height": null,
            "padding": null,
            "grid_auto_rows": null,
            "grid_gap": null,
            "max_width": null,
            "order": null,
            "_view_module_version": "1.2.0",
            "grid_template_areas": null,
            "object_position": null,
            "object_fit": null,
            "grid_auto_columns": null,
            "margin": null,
            "display": null,
            "left": null
          }
        },
        "129fc7746ff94d0284c6e1cc3487da8b": {
          "model_module": "@jupyter-widgets/controls",
          "model_name": "ProgressStyleModel",
          "model_module_version": "1.5.0",
          "state": {
            "_view_name": "StyleView",
            "_model_name": "ProgressStyleModel",
            "description_width": "",
            "_view_module": "@jupyter-widgets/base",
            "_model_module_version": "1.5.0",
            "_view_count": null,
            "_view_module_version": "1.2.0",
            "bar_color": null,
            "_model_module": "@jupyter-widgets/controls"
          }
        },
        "11f19a5b20684838975a805f1ff7bb2d": {
          "model_module": "@jupyter-widgets/base",
          "model_name": "LayoutModel",
          "model_module_version": "1.2.0",
          "state": {
            "_view_name": "LayoutView",
            "grid_template_rows": null,
            "right": null,
            "justify_content": null,
            "_view_module": "@jupyter-widgets/base",
            "overflow": null,
            "_model_module_version": "1.2.0",
            "_view_count": null,
            "flex_flow": null,
            "width": null,
            "min_width": null,
            "border": null,
            "align_items": null,
            "bottom": null,
            "_model_module": "@jupyter-widgets/base",
            "top": null,
            "grid_column": null,
            "overflow_y": null,
            "overflow_x": null,
            "grid_auto_flow": null,
            "grid_area": null,
            "grid_template_columns": null,
            "flex": null,
            "_model_name": "LayoutModel",
            "justify_items": null,
            "grid_row": null,
            "max_height": null,
            "align_content": null,
            "visibility": null,
            "align_self": null,
            "height": null,
            "min_height": null,
            "padding": null,
            "grid_auto_rows": null,
            "grid_gap": null,
            "max_width": null,
            "order": null,
            "_view_module_version": "1.2.0",
            "grid_template_areas": null,
            "object_position": null,
            "object_fit": null,
            "grid_auto_columns": null,
            "margin": null,
            "display": null,
            "left": null
          }
        },
        "ed205e4f0e4f4b10b4a6f092b06fa6f3": {
          "model_module": "@jupyter-widgets/controls",
          "model_name": "DescriptionStyleModel",
          "model_module_version": "1.5.0",
          "state": {
            "_view_name": "StyleView",
            "_model_name": "DescriptionStyleModel",
            "description_width": "",
            "_view_module": "@jupyter-widgets/base",
            "_model_module_version": "1.5.0",
            "_view_count": null,
            "_view_module_version": "1.2.0",
            "_model_module": "@jupyter-widgets/controls"
          }
        },
        "4973b5823d8c4ba59745687a3bcfc6b5": {
          "model_module": "@jupyter-widgets/base",
          "model_name": "LayoutModel",
          "model_module_version": "1.2.0",
          "state": {
            "_view_name": "LayoutView",
            "grid_template_rows": null,
            "right": null,
            "justify_content": null,
            "_view_module": "@jupyter-widgets/base",
            "overflow": null,
            "_model_module_version": "1.2.0",
            "_view_count": null,
            "flex_flow": null,
            "width": null,
            "min_width": null,
            "border": null,
            "align_items": null,
            "bottom": null,
            "_model_module": "@jupyter-widgets/base",
            "top": null,
            "grid_column": null,
            "overflow_y": null,
            "overflow_x": null,
            "grid_auto_flow": null,
            "grid_area": null,
            "grid_template_columns": null,
            "flex": null,
            "_model_name": "LayoutModel",
            "justify_items": null,
            "grid_row": null,
            "max_height": null,
            "align_content": null,
            "visibility": null,
            "align_self": null,
            "height": null,
            "min_height": null,
            "padding": null,
            "grid_auto_rows": null,
            "grid_gap": null,
            "max_width": null,
            "order": null,
            "_view_module_version": "1.2.0",
            "grid_template_areas": null,
            "object_position": null,
            "object_fit": null,
            "grid_auto_columns": null,
            "margin": null,
            "display": null,
            "left": null
          }
        },
        "7e640b70901c4ae6933aa483278bcdef": {
          "model_module": "@jupyter-widgets/controls",
          "model_name": "HBoxModel",
          "model_module_version": "1.5.0",
          "state": {
            "_view_name": "HBoxView",
            "_dom_classes": [],
            "_model_name": "HBoxModel",
            "_view_module": "@jupyter-widgets/controls",
            "_model_module_version": "1.5.0",
            "_view_count": null,
            "_view_module_version": "1.5.0",
            "box_style": "",
            "layout": "IPY_MODEL_7138d98216a341ec8df43a4ba1c4c58c",
            "_model_module": "@jupyter-widgets/controls",
            "children": [
              "IPY_MODEL_d2dd948bdc3845aa906347c2e9f4e52a",
              "IPY_MODEL_f00ed9d6ce604deab33ed60a9cb7e2f6",
              "IPY_MODEL_95bc597e07b645aaa30412cd7c152580"
            ]
          }
        },
        "7138d98216a341ec8df43a4ba1c4c58c": {
          "model_module": "@jupyter-widgets/base",
          "model_name": "LayoutModel",
          "model_module_version": "1.2.0",
          "state": {
            "_view_name": "LayoutView",
            "grid_template_rows": null,
            "right": null,
            "justify_content": null,
            "_view_module": "@jupyter-widgets/base",
            "overflow": null,
            "_model_module_version": "1.2.0",
            "_view_count": null,
            "flex_flow": null,
            "width": null,
            "min_width": null,
            "border": null,
            "align_items": null,
            "bottom": null,
            "_model_module": "@jupyter-widgets/base",
            "top": null,
            "grid_column": null,
            "overflow_y": null,
            "overflow_x": null,
            "grid_auto_flow": null,
            "grid_area": null,
            "grid_template_columns": null,
            "flex": null,
            "_model_name": "LayoutModel",
            "justify_items": null,
            "grid_row": null,
            "max_height": null,
            "align_content": null,
            "visibility": null,
            "align_self": null,
            "height": null,
            "min_height": null,
            "padding": null,
            "grid_auto_rows": null,
            "grid_gap": null,
            "max_width": null,
            "order": null,
            "_view_module_version": "1.2.0",
            "grid_template_areas": null,
            "object_position": null,
            "object_fit": null,
            "grid_auto_columns": null,
            "margin": null,
            "display": null,
            "left": null
          }
        },
        "d2dd948bdc3845aa906347c2e9f4e52a": {
          "model_module": "@jupyter-widgets/controls",
          "model_name": "HTMLModel",
          "model_module_version": "1.5.0",
          "state": {
            "_view_name": "HTMLView",
            "style": "IPY_MODEL_0f7bf1f8765b4bdd8a6bf7fbc494bef4",
            "_dom_classes": [],
            "description": "",
            "_model_name": "HTMLModel",
            "placeholder": "​",
            "_view_module": "@jupyter-widgets/controls",
            "_model_module_version": "1.5.0",
            "value": "Downloading: 100%",
            "_view_count": null,
            "_view_module_version": "1.5.0",
            "description_tooltip": null,
            "_model_module": "@jupyter-widgets/controls",
            "layout": "IPY_MODEL_96159aa94e7346bea2a565c456420dac"
          }
        },
        "f00ed9d6ce604deab33ed60a9cb7e2f6": {
          "model_module": "@jupyter-widgets/controls",
          "model_name": "FloatProgressModel",
          "model_module_version": "1.5.0",
          "state": {
            "_view_name": "ProgressView",
            "style": "IPY_MODEL_4b7f17e2417846cabe43ed3da1ba8cd2",
            "_dom_classes": [],
            "description": "",
            "_model_name": "FloatProgressModel",
            "bar_style": "success",
            "max": 570,
            "_view_module": "@jupyter-widgets/controls",
            "_model_module_version": "1.5.0",
            "value": 570,
            "_view_count": null,
            "_view_module_version": "1.5.0",
            "orientation": "horizontal",
            "min": 0,
            "description_tooltip": null,
            "_model_module": "@jupyter-widgets/controls",
            "layout": "IPY_MODEL_756c2d671e1f45408850a7b41be96bef"
          }
        },
        "95bc597e07b645aaa30412cd7c152580": {
          "model_module": "@jupyter-widgets/controls",
          "model_name": "HTMLModel",
          "model_module_version": "1.5.0",
          "state": {
            "_view_name": "HTMLView",
            "style": "IPY_MODEL_ae0b84f1297c4f089989ae48363db422",
            "_dom_classes": [],
            "description": "",
            "_model_name": "HTMLModel",
            "placeholder": "​",
            "_view_module": "@jupyter-widgets/controls",
            "_model_module_version": "1.5.0",
            "value": " 570/570 [00:00&lt;00:00, 10.3kB/s]",
            "_view_count": null,
            "_view_module_version": "1.5.0",
            "description_tooltip": null,
            "_model_module": "@jupyter-widgets/controls",
            "layout": "IPY_MODEL_5d8ee4a6b4ea40d094b7717d3f2a4d78"
          }
        },
        "0f7bf1f8765b4bdd8a6bf7fbc494bef4": {
          "model_module": "@jupyter-widgets/controls",
          "model_name": "DescriptionStyleModel",
          "model_module_version": "1.5.0",
          "state": {
            "_view_name": "StyleView",
            "_model_name": "DescriptionStyleModel",
            "description_width": "",
            "_view_module": "@jupyter-widgets/base",
            "_model_module_version": "1.5.0",
            "_view_count": null,
            "_view_module_version": "1.2.0",
            "_model_module": "@jupyter-widgets/controls"
          }
        },
        "96159aa94e7346bea2a565c456420dac": {
          "model_module": "@jupyter-widgets/base",
          "model_name": "LayoutModel",
          "model_module_version": "1.2.0",
          "state": {
            "_view_name": "LayoutView",
            "grid_template_rows": null,
            "right": null,
            "justify_content": null,
            "_view_module": "@jupyter-widgets/base",
            "overflow": null,
            "_model_module_version": "1.2.0",
            "_view_count": null,
            "flex_flow": null,
            "width": null,
            "min_width": null,
            "border": null,
            "align_items": null,
            "bottom": null,
            "_model_module": "@jupyter-widgets/base",
            "top": null,
            "grid_column": null,
            "overflow_y": null,
            "overflow_x": null,
            "grid_auto_flow": null,
            "grid_area": null,
            "grid_template_columns": null,
            "flex": null,
            "_model_name": "LayoutModel",
            "justify_items": null,
            "grid_row": null,
            "max_height": null,
            "align_content": null,
            "visibility": null,
            "align_self": null,
            "height": null,
            "min_height": null,
            "padding": null,
            "grid_auto_rows": null,
            "grid_gap": null,
            "max_width": null,
            "order": null,
            "_view_module_version": "1.2.0",
            "grid_template_areas": null,
            "object_position": null,
            "object_fit": null,
            "grid_auto_columns": null,
            "margin": null,
            "display": null,
            "left": null
          }
        },
        "4b7f17e2417846cabe43ed3da1ba8cd2": {
          "model_module": "@jupyter-widgets/controls",
          "model_name": "ProgressStyleModel",
          "model_module_version": "1.5.0",
          "state": {
            "_view_name": "StyleView",
            "_model_name": "ProgressStyleModel",
            "description_width": "",
            "_view_module": "@jupyter-widgets/base",
            "_model_module_version": "1.5.0",
            "_view_count": null,
            "_view_module_version": "1.2.0",
            "bar_color": null,
            "_model_module": "@jupyter-widgets/controls"
          }
        },
        "756c2d671e1f45408850a7b41be96bef": {
          "model_module": "@jupyter-widgets/base",
          "model_name": "LayoutModel",
          "model_module_version": "1.2.0",
          "state": {
            "_view_name": "LayoutView",
            "grid_template_rows": null,
            "right": null,
            "justify_content": null,
            "_view_module": "@jupyter-widgets/base",
            "overflow": null,
            "_model_module_version": "1.2.0",
            "_view_count": null,
            "flex_flow": null,
            "width": null,
            "min_width": null,
            "border": null,
            "align_items": null,
            "bottom": null,
            "_model_module": "@jupyter-widgets/base",
            "top": null,
            "grid_column": null,
            "overflow_y": null,
            "overflow_x": null,
            "grid_auto_flow": null,
            "grid_area": null,
            "grid_template_columns": null,
            "flex": null,
            "_model_name": "LayoutModel",
            "justify_items": null,
            "grid_row": null,
            "max_height": null,
            "align_content": null,
            "visibility": null,
            "align_self": null,
            "height": null,
            "min_height": null,
            "padding": null,
            "grid_auto_rows": null,
            "grid_gap": null,
            "max_width": null,
            "order": null,
            "_view_module_version": "1.2.0",
            "grid_template_areas": null,
            "object_position": null,
            "object_fit": null,
            "grid_auto_columns": null,
            "margin": null,
            "display": null,
            "left": null
          }
        },
        "ae0b84f1297c4f089989ae48363db422": {
          "model_module": "@jupyter-widgets/controls",
          "model_name": "DescriptionStyleModel",
          "model_module_version": "1.5.0",
          "state": {
            "_view_name": "StyleView",
            "_model_name": "DescriptionStyleModel",
            "description_width": "",
            "_view_module": "@jupyter-widgets/base",
            "_model_module_version": "1.5.0",
            "_view_count": null,
            "_view_module_version": "1.2.0",
            "_model_module": "@jupyter-widgets/controls"
          }
        },
        "5d8ee4a6b4ea40d094b7717d3f2a4d78": {
          "model_module": "@jupyter-widgets/base",
          "model_name": "LayoutModel",
          "model_module_version": "1.2.0",
          "state": {
            "_view_name": "LayoutView",
            "grid_template_rows": null,
            "right": null,
            "justify_content": null,
            "_view_module": "@jupyter-widgets/base",
            "overflow": null,
            "_model_module_version": "1.2.0",
            "_view_count": null,
            "flex_flow": null,
            "width": null,
            "min_width": null,
            "border": null,
            "align_items": null,
            "bottom": null,
            "_model_module": "@jupyter-widgets/base",
            "top": null,
            "grid_column": null,
            "overflow_y": null,
            "overflow_x": null,
            "grid_auto_flow": null,
            "grid_area": null,
            "grid_template_columns": null,
            "flex": null,
            "_model_name": "LayoutModel",
            "justify_items": null,
            "grid_row": null,
            "max_height": null,
            "align_content": null,
            "visibility": null,
            "align_self": null,
            "height": null,
            "min_height": null,
            "padding": null,
            "grid_auto_rows": null,
            "grid_gap": null,
            "max_width": null,
            "order": null,
            "_view_module_version": "1.2.0",
            "grid_template_areas": null,
            "object_position": null,
            "object_fit": null,
            "grid_auto_columns": null,
            "margin": null,
            "display": null,
            "left": null
          }
        },
        "ee894394fb5c4166aab41b885a7d1819": {
          "model_module": "@jupyter-widgets/controls",
          "model_name": "HBoxModel",
          "model_module_version": "1.5.0",
          "state": {
            "_view_name": "HBoxView",
            "_dom_classes": [],
            "_model_name": "HBoxModel",
            "_view_module": "@jupyter-widgets/controls",
            "_model_module_version": "1.5.0",
            "_view_count": null,
            "_view_module_version": "1.5.0",
            "box_style": "",
            "layout": "IPY_MODEL_16b23ef2c23d44028ab573e5c7321e76",
            "_model_module": "@jupyter-widgets/controls",
            "children": [
              "IPY_MODEL_69b0dfa9615344e19daff2eae6645581",
              "IPY_MODEL_5910c77e34af4065a3c495942ac492a3",
              "IPY_MODEL_9fd1734b58554989a12362145a73b98e"
            ]
          }
        },
        "16b23ef2c23d44028ab573e5c7321e76": {
          "model_module": "@jupyter-widgets/base",
          "model_name": "LayoutModel",
          "model_module_version": "1.2.0",
          "state": {
            "_view_name": "LayoutView",
            "grid_template_rows": null,
            "right": null,
            "justify_content": null,
            "_view_module": "@jupyter-widgets/base",
            "overflow": null,
            "_model_module_version": "1.2.0",
            "_view_count": null,
            "flex_flow": null,
            "width": null,
            "min_width": null,
            "border": null,
            "align_items": null,
            "bottom": null,
            "_model_module": "@jupyter-widgets/base",
            "top": null,
            "grid_column": null,
            "overflow_y": null,
            "overflow_x": null,
            "grid_auto_flow": null,
            "grid_area": null,
            "grid_template_columns": null,
            "flex": null,
            "_model_name": "LayoutModel",
            "justify_items": null,
            "grid_row": null,
            "max_height": null,
            "align_content": null,
            "visibility": null,
            "align_self": null,
            "height": null,
            "min_height": null,
            "padding": null,
            "grid_auto_rows": null,
            "grid_gap": null,
            "max_width": null,
            "order": null,
            "_view_module_version": "1.2.0",
            "grid_template_areas": null,
            "object_position": null,
            "object_fit": null,
            "grid_auto_columns": null,
            "margin": null,
            "display": null,
            "left": null
          }
        },
        "69b0dfa9615344e19daff2eae6645581": {
          "model_module": "@jupyter-widgets/controls",
          "model_name": "HTMLModel",
          "model_module_version": "1.5.0",
          "state": {
            "_view_name": "HTMLView",
            "style": "IPY_MODEL_62cb50cd77a74e76bc2e4234b8c21733",
            "_dom_classes": [],
            "description": "",
            "_model_name": "HTMLModel",
            "placeholder": "​",
            "_view_module": "@jupyter-widgets/controls",
            "_model_module_version": "1.5.0",
            "value": "Downloading: 100%",
            "_view_count": null,
            "_view_module_version": "1.5.0",
            "description_tooltip": null,
            "_model_module": "@jupyter-widgets/controls",
            "layout": "IPY_MODEL_5264425e8c384652badec3f97b58745a"
          }
        },
        "5910c77e34af4065a3c495942ac492a3": {
          "model_module": "@jupyter-widgets/controls",
          "model_name": "FloatProgressModel",
          "model_module_version": "1.5.0",
          "state": {
            "_view_name": "ProgressView",
            "style": "IPY_MODEL_56a135e6cf894cb3b3e9c49fdd801137",
            "_dom_classes": [],
            "description": "",
            "_model_name": "FloatProgressModel",
            "bar_style": "success",
            "max": 213450,
            "_view_module": "@jupyter-widgets/controls",
            "_model_module_version": "1.5.0",
            "value": 213450,
            "_view_count": null,
            "_view_module_version": "1.5.0",
            "orientation": "horizontal",
            "min": 0,
            "description_tooltip": null,
            "_model_module": "@jupyter-widgets/controls",
            "layout": "IPY_MODEL_e085452e24ea4e64ac2a664473c375c7"
          }
        },
        "9fd1734b58554989a12362145a73b98e": {
          "model_module": "@jupyter-widgets/controls",
          "model_name": "HTMLModel",
          "model_module_version": "1.5.0",
          "state": {
            "_view_name": "HTMLView",
            "style": "IPY_MODEL_e6ecead009eb4fc2a5d0aff97edd163a",
            "_dom_classes": [],
            "description": "",
            "_model_name": "HTMLModel",
            "placeholder": "​",
            "_view_module": "@jupyter-widgets/controls",
            "_model_module_version": "1.5.0",
            "value": " 208k/208k [00:00&lt;00:00, 1.44MB/s]",
            "_view_count": null,
            "_view_module_version": "1.5.0",
            "description_tooltip": null,
            "_model_module": "@jupyter-widgets/controls",
            "layout": "IPY_MODEL_15a7ff9fa79d477c8debaac440501937"
          }
        },
        "62cb50cd77a74e76bc2e4234b8c21733": {
          "model_module": "@jupyter-widgets/controls",
          "model_name": "DescriptionStyleModel",
          "model_module_version": "1.5.0",
          "state": {
            "_view_name": "StyleView",
            "_model_name": "DescriptionStyleModel",
            "description_width": "",
            "_view_module": "@jupyter-widgets/base",
            "_model_module_version": "1.5.0",
            "_view_count": null,
            "_view_module_version": "1.2.0",
            "_model_module": "@jupyter-widgets/controls"
          }
        },
        "5264425e8c384652badec3f97b58745a": {
          "model_module": "@jupyter-widgets/base",
          "model_name": "LayoutModel",
          "model_module_version": "1.2.0",
          "state": {
            "_view_name": "LayoutView",
            "grid_template_rows": null,
            "right": null,
            "justify_content": null,
            "_view_module": "@jupyter-widgets/base",
            "overflow": null,
            "_model_module_version": "1.2.0",
            "_view_count": null,
            "flex_flow": null,
            "width": null,
            "min_width": null,
            "border": null,
            "align_items": null,
            "bottom": null,
            "_model_module": "@jupyter-widgets/base",
            "top": null,
            "grid_column": null,
            "overflow_y": null,
            "overflow_x": null,
            "grid_auto_flow": null,
            "grid_area": null,
            "grid_template_columns": null,
            "flex": null,
            "_model_name": "LayoutModel",
            "justify_items": null,
            "grid_row": null,
            "max_height": null,
            "align_content": null,
            "visibility": null,
            "align_self": null,
            "height": null,
            "min_height": null,
            "padding": null,
            "grid_auto_rows": null,
            "grid_gap": null,
            "max_width": null,
            "order": null,
            "_view_module_version": "1.2.0",
            "grid_template_areas": null,
            "object_position": null,
            "object_fit": null,
            "grid_auto_columns": null,
            "margin": null,
            "display": null,
            "left": null
          }
        },
        "56a135e6cf894cb3b3e9c49fdd801137": {
          "model_module": "@jupyter-widgets/controls",
          "model_name": "ProgressStyleModel",
          "model_module_version": "1.5.0",
          "state": {
            "_view_name": "StyleView",
            "_model_name": "ProgressStyleModel",
            "description_width": "",
            "_view_module": "@jupyter-widgets/base",
            "_model_module_version": "1.5.0",
            "_view_count": null,
            "_view_module_version": "1.2.0",
            "bar_color": null,
            "_model_module": "@jupyter-widgets/controls"
          }
        },
        "e085452e24ea4e64ac2a664473c375c7": {
          "model_module": "@jupyter-widgets/base",
          "model_name": "LayoutModel",
          "model_module_version": "1.2.0",
          "state": {
            "_view_name": "LayoutView",
            "grid_template_rows": null,
            "right": null,
            "justify_content": null,
            "_view_module": "@jupyter-widgets/base",
            "overflow": null,
            "_model_module_version": "1.2.0",
            "_view_count": null,
            "flex_flow": null,
            "width": null,
            "min_width": null,
            "border": null,
            "align_items": null,
            "bottom": null,
            "_model_module": "@jupyter-widgets/base",
            "top": null,
            "grid_column": null,
            "overflow_y": null,
            "overflow_x": null,
            "grid_auto_flow": null,
            "grid_area": null,
            "grid_template_columns": null,
            "flex": null,
            "_model_name": "LayoutModel",
            "justify_items": null,
            "grid_row": null,
            "max_height": null,
            "align_content": null,
            "visibility": null,
            "align_self": null,
            "height": null,
            "min_height": null,
            "padding": null,
            "grid_auto_rows": null,
            "grid_gap": null,
            "max_width": null,
            "order": null,
            "_view_module_version": "1.2.0",
            "grid_template_areas": null,
            "object_position": null,
            "object_fit": null,
            "grid_auto_columns": null,
            "margin": null,
            "display": null,
            "left": null
          }
        },
        "e6ecead009eb4fc2a5d0aff97edd163a": {
          "model_module": "@jupyter-widgets/controls",
          "model_name": "DescriptionStyleModel",
          "model_module_version": "1.5.0",
          "state": {
            "_view_name": "StyleView",
            "_model_name": "DescriptionStyleModel",
            "description_width": "",
            "_view_module": "@jupyter-widgets/base",
            "_model_module_version": "1.5.0",
            "_view_count": null,
            "_view_module_version": "1.2.0",
            "_model_module": "@jupyter-widgets/controls"
          }
        },
        "15a7ff9fa79d477c8debaac440501937": {
          "model_module": "@jupyter-widgets/base",
          "model_name": "LayoutModel",
          "model_module_version": "1.2.0",
          "state": {
            "_view_name": "LayoutView",
            "grid_template_rows": null,
            "right": null,
            "justify_content": null,
            "_view_module": "@jupyter-widgets/base",
            "overflow": null,
            "_model_module_version": "1.2.0",
            "_view_count": null,
            "flex_flow": null,
            "width": null,
            "min_width": null,
            "border": null,
            "align_items": null,
            "bottom": null,
            "_model_module": "@jupyter-widgets/base",
            "top": null,
            "grid_column": null,
            "overflow_y": null,
            "overflow_x": null,
            "grid_auto_flow": null,
            "grid_area": null,
            "grid_template_columns": null,
            "flex": null,
            "_model_name": "LayoutModel",
            "justify_items": null,
            "grid_row": null,
            "max_height": null,
            "align_content": null,
            "visibility": null,
            "align_self": null,
            "height": null,
            "min_height": null,
            "padding": null,
            "grid_auto_rows": null,
            "grid_gap": null,
            "max_width": null,
            "order": null,
            "_view_module_version": "1.2.0",
            "grid_template_areas": null,
            "object_position": null,
            "object_fit": null,
            "grid_auto_columns": null,
            "margin": null,
            "display": null,
            "left": null
          }
        },
        "da831c5b39e24270ac4f2b05ee7592f8": {
          "model_module": "@jupyter-widgets/controls",
          "model_name": "HBoxModel",
          "model_module_version": "1.5.0",
          "state": {
            "_view_name": "HBoxView",
            "_dom_classes": [],
            "_model_name": "HBoxModel",
            "_view_module": "@jupyter-widgets/controls",
            "_model_module_version": "1.5.0",
            "_view_count": null,
            "_view_module_version": "1.5.0",
            "box_style": "",
            "layout": "IPY_MODEL_5e88a152e4b342cd86d79acf12a9224d",
            "_model_module": "@jupyter-widgets/controls",
            "children": [
              "IPY_MODEL_29ce8afe70ff4dceb14469815c8f2a10",
              "IPY_MODEL_88edfd97c29347c9adb86da26d419b7a",
              "IPY_MODEL_b1a218cccb974380b4778bce2268471d"
            ]
          }
        },
        "5e88a152e4b342cd86d79acf12a9224d": {
          "model_module": "@jupyter-widgets/base",
          "model_name": "LayoutModel",
          "model_module_version": "1.2.0",
          "state": {
            "_view_name": "LayoutView",
            "grid_template_rows": null,
            "right": null,
            "justify_content": null,
            "_view_module": "@jupyter-widgets/base",
            "overflow": null,
            "_model_module_version": "1.2.0",
            "_view_count": null,
            "flex_flow": null,
            "width": null,
            "min_width": null,
            "border": null,
            "align_items": null,
            "bottom": null,
            "_model_module": "@jupyter-widgets/base",
            "top": null,
            "grid_column": null,
            "overflow_y": null,
            "overflow_x": null,
            "grid_auto_flow": null,
            "grid_area": null,
            "grid_template_columns": null,
            "flex": null,
            "_model_name": "LayoutModel",
            "justify_items": null,
            "grid_row": null,
            "max_height": null,
            "align_content": null,
            "visibility": null,
            "align_self": null,
            "height": null,
            "min_height": null,
            "padding": null,
            "grid_auto_rows": null,
            "grid_gap": null,
            "max_width": null,
            "order": null,
            "_view_module_version": "1.2.0",
            "grid_template_areas": null,
            "object_position": null,
            "object_fit": null,
            "grid_auto_columns": null,
            "margin": null,
            "display": null,
            "left": null
          }
        },
        "29ce8afe70ff4dceb14469815c8f2a10": {
          "model_module": "@jupyter-widgets/controls",
          "model_name": "HTMLModel",
          "model_module_version": "1.5.0",
          "state": {
            "_view_name": "HTMLView",
            "style": "IPY_MODEL_c235821937a248e0b6cf15a5198f36bc",
            "_dom_classes": [],
            "description": "",
            "_model_name": "HTMLModel",
            "placeholder": "​",
            "_view_module": "@jupyter-widgets/controls",
            "_model_module_version": "1.5.0",
            "value": "Downloading: 100%",
            "_view_count": null,
            "_view_module_version": "1.5.0",
            "description_tooltip": null,
            "_model_module": "@jupyter-widgets/controls",
            "layout": "IPY_MODEL_afed03d72835417981aedd376708328b"
          }
        },
        "88edfd97c29347c9adb86da26d419b7a": {
          "model_module": "@jupyter-widgets/controls",
          "model_name": "FloatProgressModel",
          "model_module_version": "1.5.0",
          "state": {
            "_view_name": "ProgressView",
            "style": "IPY_MODEL_b6c79e163535460f99b7f24b1d0663e9",
            "_dom_classes": [],
            "description": "",
            "_model_name": "FloatProgressModel",
            "bar_style": "success",
            "max": 435797,
            "_view_module": "@jupyter-widgets/controls",
            "_model_module_version": "1.5.0",
            "value": 435797,
            "_view_count": null,
            "_view_module_version": "1.5.0",
            "orientation": "horizontal",
            "min": 0,
            "description_tooltip": null,
            "_model_module": "@jupyter-widgets/controls",
            "layout": "IPY_MODEL_c6035ffdc8c744cbae7caca80b96937f"
          }
        },
        "b1a218cccb974380b4778bce2268471d": {
          "model_module": "@jupyter-widgets/controls",
          "model_name": "HTMLModel",
          "model_module_version": "1.5.0",
          "state": {
            "_view_name": "HTMLView",
            "style": "IPY_MODEL_e0a26c89d4c04418bfeedc084b3bda88",
            "_dom_classes": [],
            "description": "",
            "_model_name": "HTMLModel",
            "placeholder": "​",
            "_view_module": "@jupyter-widgets/controls",
            "_model_module_version": "1.5.0",
            "value": " 426k/426k [00:00&lt;00:00, 2.13MB/s]",
            "_view_count": null,
            "_view_module_version": "1.5.0",
            "description_tooltip": null,
            "_model_module": "@jupyter-widgets/controls",
            "layout": "IPY_MODEL_5ecd017013d344a28478e1f7c86b8ba6"
          }
        },
        "c235821937a248e0b6cf15a5198f36bc": {
          "model_module": "@jupyter-widgets/controls",
          "model_name": "DescriptionStyleModel",
          "model_module_version": "1.5.0",
          "state": {
            "_view_name": "StyleView",
            "_model_name": "DescriptionStyleModel",
            "description_width": "",
            "_view_module": "@jupyter-widgets/base",
            "_model_module_version": "1.5.0",
            "_view_count": null,
            "_view_module_version": "1.2.0",
            "_model_module": "@jupyter-widgets/controls"
          }
        },
        "afed03d72835417981aedd376708328b": {
          "model_module": "@jupyter-widgets/base",
          "model_name": "LayoutModel",
          "model_module_version": "1.2.0",
          "state": {
            "_view_name": "LayoutView",
            "grid_template_rows": null,
            "right": null,
            "justify_content": null,
            "_view_module": "@jupyter-widgets/base",
            "overflow": null,
            "_model_module_version": "1.2.0",
            "_view_count": null,
            "flex_flow": null,
            "width": null,
            "min_width": null,
            "border": null,
            "align_items": null,
            "bottom": null,
            "_model_module": "@jupyter-widgets/base",
            "top": null,
            "grid_column": null,
            "overflow_y": null,
            "overflow_x": null,
            "grid_auto_flow": null,
            "grid_area": null,
            "grid_template_columns": null,
            "flex": null,
            "_model_name": "LayoutModel",
            "justify_items": null,
            "grid_row": null,
            "max_height": null,
            "align_content": null,
            "visibility": null,
            "align_self": null,
            "height": null,
            "min_height": null,
            "padding": null,
            "grid_auto_rows": null,
            "grid_gap": null,
            "max_width": null,
            "order": null,
            "_view_module_version": "1.2.0",
            "grid_template_areas": null,
            "object_position": null,
            "object_fit": null,
            "grid_auto_columns": null,
            "margin": null,
            "display": null,
            "left": null
          }
        },
        "b6c79e163535460f99b7f24b1d0663e9": {
          "model_module": "@jupyter-widgets/controls",
          "model_name": "ProgressStyleModel",
          "model_module_version": "1.5.0",
          "state": {
            "_view_name": "StyleView",
            "_model_name": "ProgressStyleModel",
            "description_width": "",
            "_view_module": "@jupyter-widgets/base",
            "_model_module_version": "1.5.0",
            "_view_count": null,
            "_view_module_version": "1.2.0",
            "bar_color": null,
            "_model_module": "@jupyter-widgets/controls"
          }
        },
        "c6035ffdc8c744cbae7caca80b96937f": {
          "model_module": "@jupyter-widgets/base",
          "model_name": "LayoutModel",
          "model_module_version": "1.2.0",
          "state": {
            "_view_name": "LayoutView",
            "grid_template_rows": null,
            "right": null,
            "justify_content": null,
            "_view_module": "@jupyter-widgets/base",
            "overflow": null,
            "_model_module_version": "1.2.0",
            "_view_count": null,
            "flex_flow": null,
            "width": null,
            "min_width": null,
            "border": null,
            "align_items": null,
            "bottom": null,
            "_model_module": "@jupyter-widgets/base",
            "top": null,
            "grid_column": null,
            "overflow_y": null,
            "overflow_x": null,
            "grid_auto_flow": null,
            "grid_area": null,
            "grid_template_columns": null,
            "flex": null,
            "_model_name": "LayoutModel",
            "justify_items": null,
            "grid_row": null,
            "max_height": null,
            "align_content": null,
            "visibility": null,
            "align_self": null,
            "height": null,
            "min_height": null,
            "padding": null,
            "grid_auto_rows": null,
            "grid_gap": null,
            "max_width": null,
            "order": null,
            "_view_module_version": "1.2.0",
            "grid_template_areas": null,
            "object_position": null,
            "object_fit": null,
            "grid_auto_columns": null,
            "margin": null,
            "display": null,
            "left": null
          }
        },
        "e0a26c89d4c04418bfeedc084b3bda88": {
          "model_module": "@jupyter-widgets/controls",
          "model_name": "DescriptionStyleModel",
          "model_module_version": "1.5.0",
          "state": {
            "_view_name": "StyleView",
            "_model_name": "DescriptionStyleModel",
            "description_width": "",
            "_view_module": "@jupyter-widgets/base",
            "_model_module_version": "1.5.0",
            "_view_count": null,
            "_view_module_version": "1.2.0",
            "_model_module": "@jupyter-widgets/controls"
          }
        },
        "5ecd017013d344a28478e1f7c86b8ba6": {
          "model_module": "@jupyter-widgets/base",
          "model_name": "LayoutModel",
          "model_module_version": "1.2.0",
          "state": {
            "_view_name": "LayoutView",
            "grid_template_rows": null,
            "right": null,
            "justify_content": null,
            "_view_module": "@jupyter-widgets/base",
            "overflow": null,
            "_model_module_version": "1.2.0",
            "_view_count": null,
            "flex_flow": null,
            "width": null,
            "min_width": null,
            "border": null,
            "align_items": null,
            "bottom": null,
            "_model_module": "@jupyter-widgets/base",
            "top": null,
            "grid_column": null,
            "overflow_y": null,
            "overflow_x": null,
            "grid_auto_flow": null,
            "grid_area": null,
            "grid_template_columns": null,
            "flex": null,
            "_model_name": "LayoutModel",
            "justify_items": null,
            "grid_row": null,
            "max_height": null,
            "align_content": null,
            "visibility": null,
            "align_self": null,
            "height": null,
            "min_height": null,
            "padding": null,
            "grid_auto_rows": null,
            "grid_gap": null,
            "max_width": null,
            "order": null,
            "_view_module_version": "1.2.0",
            "grid_template_areas": null,
            "object_position": null,
            "object_fit": null,
            "grid_auto_columns": null,
            "margin": null,
            "display": null,
            "left": null
          }
        },
        "f7b49386e406443e9610cc19a48a1f45": {
          "model_module": "@jupyter-widgets/controls",
          "model_name": "HBoxModel",
          "model_module_version": "1.5.0",
          "state": {
            "_view_name": "HBoxView",
            "_dom_classes": [],
            "_model_name": "HBoxModel",
            "_view_module": "@jupyter-widgets/controls",
            "_model_module_version": "1.5.0",
            "_view_count": null,
            "_view_module_version": "1.5.0",
            "box_style": "",
            "layout": "IPY_MODEL_6109e1c8210b4e20809b415913dc68e4",
            "_model_module": "@jupyter-widgets/controls",
            "children": [
              "IPY_MODEL_2634fe90417643ff9bdae365f28acb7d",
              "IPY_MODEL_93118ddba614402583170567c0449dc5",
              "IPY_MODEL_0f2798260b3f461181765b6142c0ca61"
            ]
          }
        },
        "6109e1c8210b4e20809b415913dc68e4": {
          "model_module": "@jupyter-widgets/base",
          "model_name": "LayoutModel",
          "model_module_version": "1.2.0",
          "state": {
            "_view_name": "LayoutView",
            "grid_template_rows": null,
            "right": null,
            "justify_content": null,
            "_view_module": "@jupyter-widgets/base",
            "overflow": null,
            "_model_module_version": "1.2.0",
            "_view_count": null,
            "flex_flow": null,
            "width": null,
            "min_width": null,
            "border": null,
            "align_items": null,
            "bottom": null,
            "_model_module": "@jupyter-widgets/base",
            "top": null,
            "grid_column": null,
            "overflow_y": null,
            "overflow_x": null,
            "grid_auto_flow": null,
            "grid_area": null,
            "grid_template_columns": null,
            "flex": null,
            "_model_name": "LayoutModel",
            "justify_items": null,
            "grid_row": null,
            "max_height": null,
            "align_content": null,
            "visibility": null,
            "align_self": null,
            "height": null,
            "min_height": null,
            "padding": null,
            "grid_auto_rows": null,
            "grid_gap": null,
            "max_width": null,
            "order": null,
            "_view_module_version": "1.2.0",
            "grid_template_areas": null,
            "object_position": null,
            "object_fit": null,
            "grid_auto_columns": null,
            "margin": null,
            "display": null,
            "left": null
          }
        },
        "2634fe90417643ff9bdae365f28acb7d": {
          "model_module": "@jupyter-widgets/controls",
          "model_name": "HTMLModel",
          "model_module_version": "1.5.0",
          "state": {
            "_view_name": "HTMLView",
            "style": "IPY_MODEL_1ca7d1d41406412b83913cbec9ecbdf9",
            "_dom_classes": [],
            "description": "",
            "_model_name": "HTMLModel",
            "placeholder": "​",
            "_view_module": "@jupyter-widgets/controls",
            "_model_module_version": "1.5.0",
            "value": "Downloading: 100%",
            "_view_count": null,
            "_view_module_version": "1.5.0",
            "description_tooltip": null,
            "_model_module": "@jupyter-widgets/controls",
            "layout": "IPY_MODEL_6b43b30271e946128e60d272a9f9c188"
          }
        },
        "93118ddba614402583170567c0449dc5": {
          "model_module": "@jupyter-widgets/controls",
          "model_name": "FloatProgressModel",
          "model_module_version": "1.5.0",
          "state": {
            "_view_name": "ProgressView",
            "style": "IPY_MODEL_6eb78b3676fc49c8a12c1fb09acc79d1",
            "_dom_classes": [],
            "description": "",
            "_model_name": "FloatProgressModel",
            "bar_style": "success",
            "max": 435779157,
            "_view_module": "@jupyter-widgets/controls",
            "_model_module_version": "1.5.0",
            "value": 435779157,
            "_view_count": null,
            "_view_module_version": "1.5.0",
            "orientation": "horizontal",
            "min": 0,
            "description_tooltip": null,
            "_model_module": "@jupyter-widgets/controls",
            "layout": "IPY_MODEL_8f0cf3ff499e4a10a9a9ca401d6fde4f"
          }
        },
        "0f2798260b3f461181765b6142c0ca61": {
          "model_module": "@jupyter-widgets/controls",
          "model_name": "HTMLModel",
          "model_module_version": "1.5.0",
          "state": {
            "_view_name": "HTMLView",
            "style": "IPY_MODEL_49630a1f94a1409cae84533cd217a9b3",
            "_dom_classes": [],
            "description": "",
            "_model_name": "HTMLModel",
            "placeholder": "​",
            "_view_module": "@jupyter-widgets/controls",
            "_model_module_version": "1.5.0",
            "value": " 416M/416M [00:10&lt;00:00, 40.0MB/s]",
            "_view_count": null,
            "_view_module_version": "1.5.0",
            "description_tooltip": null,
            "_model_module": "@jupyter-widgets/controls",
            "layout": "IPY_MODEL_155b108a49f644e08de6de0d06055dff"
          }
        },
        "1ca7d1d41406412b83913cbec9ecbdf9": {
          "model_module": "@jupyter-widgets/controls",
          "model_name": "DescriptionStyleModel",
          "model_module_version": "1.5.0",
          "state": {
            "_view_name": "StyleView",
            "_model_name": "DescriptionStyleModel",
            "description_width": "",
            "_view_module": "@jupyter-widgets/base",
            "_model_module_version": "1.5.0",
            "_view_count": null,
            "_view_module_version": "1.2.0",
            "_model_module": "@jupyter-widgets/controls"
          }
        },
        "6b43b30271e946128e60d272a9f9c188": {
          "model_module": "@jupyter-widgets/base",
          "model_name": "LayoutModel",
          "model_module_version": "1.2.0",
          "state": {
            "_view_name": "LayoutView",
            "grid_template_rows": null,
            "right": null,
            "justify_content": null,
            "_view_module": "@jupyter-widgets/base",
            "overflow": null,
            "_model_module_version": "1.2.0",
            "_view_count": null,
            "flex_flow": null,
            "width": null,
            "min_width": null,
            "border": null,
            "align_items": null,
            "bottom": null,
            "_model_module": "@jupyter-widgets/base",
            "top": null,
            "grid_column": null,
            "overflow_y": null,
            "overflow_x": null,
            "grid_auto_flow": null,
            "grid_area": null,
            "grid_template_columns": null,
            "flex": null,
            "_model_name": "LayoutModel",
            "justify_items": null,
            "grid_row": null,
            "max_height": null,
            "align_content": null,
            "visibility": null,
            "align_self": null,
            "height": null,
            "min_height": null,
            "padding": null,
            "grid_auto_rows": null,
            "grid_gap": null,
            "max_width": null,
            "order": null,
            "_view_module_version": "1.2.0",
            "grid_template_areas": null,
            "object_position": null,
            "object_fit": null,
            "grid_auto_columns": null,
            "margin": null,
            "display": null,
            "left": null
          }
        },
        "6eb78b3676fc49c8a12c1fb09acc79d1": {
          "model_module": "@jupyter-widgets/controls",
          "model_name": "ProgressStyleModel",
          "model_module_version": "1.5.0",
          "state": {
            "_view_name": "StyleView",
            "_model_name": "ProgressStyleModel",
            "description_width": "",
            "_view_module": "@jupyter-widgets/base",
            "_model_module_version": "1.5.0",
            "_view_count": null,
            "_view_module_version": "1.2.0",
            "bar_color": null,
            "_model_module": "@jupyter-widgets/controls"
          }
        },
        "8f0cf3ff499e4a10a9a9ca401d6fde4f": {
          "model_module": "@jupyter-widgets/base",
          "model_name": "LayoutModel",
          "model_module_version": "1.2.0",
          "state": {
            "_view_name": "LayoutView",
            "grid_template_rows": null,
            "right": null,
            "justify_content": null,
            "_view_module": "@jupyter-widgets/base",
            "overflow": null,
            "_model_module_version": "1.2.0",
            "_view_count": null,
            "flex_flow": null,
            "width": null,
            "min_width": null,
            "border": null,
            "align_items": null,
            "bottom": null,
            "_model_module": "@jupyter-widgets/base",
            "top": null,
            "grid_column": null,
            "overflow_y": null,
            "overflow_x": null,
            "grid_auto_flow": null,
            "grid_area": null,
            "grid_template_columns": null,
            "flex": null,
            "_model_name": "LayoutModel",
            "justify_items": null,
            "grid_row": null,
            "max_height": null,
            "align_content": null,
            "visibility": null,
            "align_self": null,
            "height": null,
            "min_height": null,
            "padding": null,
            "grid_auto_rows": null,
            "grid_gap": null,
            "max_width": null,
            "order": null,
            "_view_module_version": "1.2.0",
            "grid_template_areas": null,
            "object_position": null,
            "object_fit": null,
            "grid_auto_columns": null,
            "margin": null,
            "display": null,
            "left": null
          }
        },
        "49630a1f94a1409cae84533cd217a9b3": {
          "model_module": "@jupyter-widgets/controls",
          "model_name": "DescriptionStyleModel",
          "model_module_version": "1.5.0",
          "state": {
            "_view_name": "StyleView",
            "_model_name": "DescriptionStyleModel",
            "description_width": "",
            "_view_module": "@jupyter-widgets/base",
            "_model_module_version": "1.5.0",
            "_view_count": null,
            "_view_module_version": "1.2.0",
            "_model_module": "@jupyter-widgets/controls"
          }
        },
        "155b108a49f644e08de6de0d06055dff": {
          "model_module": "@jupyter-widgets/base",
          "model_name": "LayoutModel",
          "model_module_version": "1.2.0",
          "state": {
            "_view_name": "LayoutView",
            "grid_template_rows": null,
            "right": null,
            "justify_content": null,
            "_view_module": "@jupyter-widgets/base",
            "overflow": null,
            "_model_module_version": "1.2.0",
            "_view_count": null,
            "flex_flow": null,
            "width": null,
            "min_width": null,
            "border": null,
            "align_items": null,
            "bottom": null,
            "_model_module": "@jupyter-widgets/base",
            "top": null,
            "grid_column": null,
            "overflow_y": null,
            "overflow_x": null,
            "grid_auto_flow": null,
            "grid_area": null,
            "grid_template_columns": null,
            "flex": null,
            "_model_name": "LayoutModel",
            "justify_items": null,
            "grid_row": null,
            "max_height": null,
            "align_content": null,
            "visibility": null,
            "align_self": null,
            "height": null,
            "min_height": null,
            "padding": null,
            "grid_auto_rows": null,
            "grid_gap": null,
            "max_width": null,
            "order": null,
            "_view_module_version": "1.2.0",
            "grid_template_areas": null,
            "object_position": null,
            "object_fit": null,
            "grid_auto_columns": null,
            "margin": null,
            "display": null,
            "left": null
          }
        }
      }
    }
  },
  "cells": [
    {
      "cell_type": "markdown",
      "metadata": {
        "id": "view-in-github",
        "colab_type": "text"
      },
      "source": [
        "<a href=\"https://colab.research.google.com/github/JennyFrost/LLMs/blob/main/Meanings_clusters.ipynb\" target=\"_parent\"><img src=\"https://colab.research.google.com/assets/colab-badge.svg\" alt=\"Open In Colab\"/></a>"
      ]
    },
    {
      "cell_type": "code",
      "source": [
        "!pip install transformers"
      ],
      "metadata": {
        "colab": {
          "base_uri": "https://localhost:8080/"
        },
        "id": "FwhTy1tQ3S6u",
        "outputId": "582f7e77-0126-4e2d-8232-8fe4dd515ec7"
      },
      "execution_count": null,
      "outputs": [
        {
          "output_type": "stream",
          "name": "stdout",
          "text": [
            "Collecting transformers\n",
            "  Downloading transformers-4.15.0-py3-none-any.whl (3.4 MB)\n",
            "\u001b[K     |████████████████████████████████| 3.4 MB 5.1 MB/s \n",
            "\u001b[?25hCollecting pyyaml>=5.1\n",
            "  Downloading PyYAML-6.0-cp37-cp37m-manylinux_2_5_x86_64.manylinux1_x86_64.manylinux_2_12_x86_64.manylinux2010_x86_64.whl (596 kB)\n",
            "\u001b[K     |████████████████████████████████| 596 kB 48.6 MB/s \n",
            "\u001b[?25hRequirement already satisfied: numpy>=1.17 in /usr/local/lib/python3.7/dist-packages (from transformers) (1.19.5)\n",
            "Requirement already satisfied: filelock in /usr/local/lib/python3.7/dist-packages (from transformers) (3.4.2)\n",
            "Requirement already satisfied: packaging>=20.0 in /usr/local/lib/python3.7/dist-packages (from transformers) (21.3)\n",
            "Requirement already satisfied: regex!=2019.12.17 in /usr/local/lib/python3.7/dist-packages (from transformers) (2019.12.20)\n",
            "Collecting sacremoses\n",
            "  Downloading sacremoses-0.0.47-py2.py3-none-any.whl (895 kB)\n",
            "\u001b[K     |████████████████████████████████| 895 kB 52.3 MB/s \n",
            "\u001b[?25hRequirement already satisfied: requests in /usr/local/lib/python3.7/dist-packages (from transformers) (2.23.0)\n",
            "Requirement already satisfied: tqdm>=4.27 in /usr/local/lib/python3.7/dist-packages (from transformers) (4.62.3)\n",
            "Collecting huggingface-hub<1.0,>=0.1.0\n",
            "  Downloading huggingface_hub-0.4.0-py3-none-any.whl (67 kB)\n",
            "\u001b[K     |████████████████████████████████| 67 kB 3.1 MB/s \n",
            "\u001b[?25hCollecting tokenizers<0.11,>=0.10.1\n",
            "  Downloading tokenizers-0.10.3-cp37-cp37m-manylinux_2_5_x86_64.manylinux1_x86_64.manylinux_2_12_x86_64.manylinux2010_x86_64.whl (3.3 MB)\n",
            "\u001b[K     |████████████████████████████████| 3.3 MB 34.5 MB/s \n",
            "\u001b[?25hRequirement already satisfied: importlib-metadata in /usr/local/lib/python3.7/dist-packages (from transformers) (4.10.1)\n",
            "Requirement already satisfied: typing-extensions>=3.7.4.3 in /usr/local/lib/python3.7/dist-packages (from huggingface-hub<1.0,>=0.1.0->transformers) (3.10.0.2)\n",
            "Requirement already satisfied: pyparsing!=3.0.5,>=2.0.2 in /usr/local/lib/python3.7/dist-packages (from packaging>=20.0->transformers) (3.0.7)\n",
            "Requirement already satisfied: zipp>=0.5 in /usr/local/lib/python3.7/dist-packages (from importlib-metadata->transformers) (3.7.0)\n",
            "Requirement already satisfied: certifi>=2017.4.17 in /usr/local/lib/python3.7/dist-packages (from requests->transformers) (2021.10.8)\n",
            "Requirement already satisfied: chardet<4,>=3.0.2 in /usr/local/lib/python3.7/dist-packages (from requests->transformers) (3.0.4)\n",
            "Requirement already satisfied: idna<3,>=2.5 in /usr/local/lib/python3.7/dist-packages (from requests->transformers) (2.10)\n",
            "Requirement already satisfied: urllib3!=1.25.0,!=1.25.1,<1.26,>=1.21.1 in /usr/local/lib/python3.7/dist-packages (from requests->transformers) (1.24.3)\n",
            "Requirement already satisfied: click in /usr/local/lib/python3.7/dist-packages (from sacremoses->transformers) (7.1.2)\n",
            "Requirement already satisfied: six in /usr/local/lib/python3.7/dist-packages (from sacremoses->transformers) (1.15.0)\n",
            "Requirement already satisfied: joblib in /usr/local/lib/python3.7/dist-packages (from sacremoses->transformers) (1.1.0)\n",
            "Installing collected packages: pyyaml, tokenizers, sacremoses, huggingface-hub, transformers\n",
            "  Attempting uninstall: pyyaml\n",
            "    Found existing installation: PyYAML 3.13\n",
            "    Uninstalling PyYAML-3.13:\n",
            "      Successfully uninstalled PyYAML-3.13\n",
            "Successfully installed huggingface-hub-0.4.0 pyyaml-6.0 sacremoses-0.0.47 tokenizers-0.10.3 transformers-4.15.0\n"
          ]
        }
      ]
    },
    {
      "cell_type": "code",
      "execution_count": null,
      "metadata": {
        "id": "pmb-c6493PiC"
      },
      "outputs": [],
      "source": [
        "import numpy as np\n",
        "import pandas as pd\n",
        "from matplotlib import pyplot as plt\n",
        "import random\n",
        "from sklearn.preprocessing import normalize\n",
        "from sklearn.cluster import KMeans\n",
        "from scipy.cluster import hierarchy\n",
        "from sklearn.cluster import AgglomerativeClustering\n",
        "import re\n",
        "import torch\n",
        "from transformers import AutoTokenizer, AutoModel"
      ]
    },
    {
      "cell_type": "code",
      "source": [
        "tokenizer = AutoTokenizer.from_pretrained(\"bert-base-cased\")\n",
        "model = AutoModel.from_pretrained(\"bert-base-cased\", output_hidden_states=True)"
      ],
      "metadata": {
        "colab": {
          "base_uri": "https://localhost:8080/",
          "height": 252,
          "referenced_widgets": [
            "a1958e05e94b4c03a984017e4fe9a2f6",
            "e705af2fc44b4505a64117f1f1c29700",
            "a8fbdf1a94f44cdca4de82079d2e58e6",
            "fe19636da1fc4d33b4d48a3130a0e762",
            "4af859d63b2e43d4b3554a5564eb4469",
            "a3e9f26919284335aeabbce52bb89330",
            "b6c777f3e55c4613ba0eae5cd6f77443",
            "129fc7746ff94d0284c6e1cc3487da8b",
            "11f19a5b20684838975a805f1ff7bb2d",
            "ed205e4f0e4f4b10b4a6f092b06fa6f3",
            "4973b5823d8c4ba59745687a3bcfc6b5",
            "7e640b70901c4ae6933aa483278bcdef",
            "7138d98216a341ec8df43a4ba1c4c58c",
            "d2dd948bdc3845aa906347c2e9f4e52a",
            "f00ed9d6ce604deab33ed60a9cb7e2f6",
            "95bc597e07b645aaa30412cd7c152580",
            "0f7bf1f8765b4bdd8a6bf7fbc494bef4",
            "96159aa94e7346bea2a565c456420dac",
            "4b7f17e2417846cabe43ed3da1ba8cd2",
            "756c2d671e1f45408850a7b41be96bef",
            "ae0b84f1297c4f089989ae48363db422",
            "5d8ee4a6b4ea40d094b7717d3f2a4d78",
            "ee894394fb5c4166aab41b885a7d1819",
            "16b23ef2c23d44028ab573e5c7321e76",
            "69b0dfa9615344e19daff2eae6645581",
            "5910c77e34af4065a3c495942ac492a3",
            "9fd1734b58554989a12362145a73b98e",
            "62cb50cd77a74e76bc2e4234b8c21733",
            "5264425e8c384652badec3f97b58745a",
            "56a135e6cf894cb3b3e9c49fdd801137",
            "e085452e24ea4e64ac2a664473c375c7",
            "e6ecead009eb4fc2a5d0aff97edd163a",
            "15a7ff9fa79d477c8debaac440501937",
            "da831c5b39e24270ac4f2b05ee7592f8",
            "5e88a152e4b342cd86d79acf12a9224d",
            "29ce8afe70ff4dceb14469815c8f2a10",
            "88edfd97c29347c9adb86da26d419b7a",
            "b1a218cccb974380b4778bce2268471d",
            "c235821937a248e0b6cf15a5198f36bc",
            "afed03d72835417981aedd376708328b",
            "b6c79e163535460f99b7f24b1d0663e9",
            "c6035ffdc8c744cbae7caca80b96937f",
            "e0a26c89d4c04418bfeedc084b3bda88",
            "5ecd017013d344a28478e1f7c86b8ba6",
            "f7b49386e406443e9610cc19a48a1f45",
            "6109e1c8210b4e20809b415913dc68e4",
            "2634fe90417643ff9bdae365f28acb7d",
            "93118ddba614402583170567c0449dc5",
            "0f2798260b3f461181765b6142c0ca61",
            "1ca7d1d41406412b83913cbec9ecbdf9",
            "6b43b30271e946128e60d272a9f9c188",
            "6eb78b3676fc49c8a12c1fb09acc79d1",
            "8f0cf3ff499e4a10a9a9ca401d6fde4f",
            "49630a1f94a1409cae84533cd217a9b3",
            "155b108a49f644e08de6de0d06055dff"
          ]
        },
        "id": "SgLnBqvr3Qp0",
        "outputId": "d17a3a70-7740-4070-9d90-3c410791777a"
      },
      "execution_count": null,
      "outputs": [
        {
          "output_type": "display_data",
          "data": {
            "application/vnd.jupyter.widget-view+json": {
              "model_id": "a1958e05e94b4c03a984017e4fe9a2f6",
              "version_minor": 0,
              "version_major": 2
            },
            "text/plain": [
              "Downloading:   0%|          | 0.00/29.0 [00:00<?, ?B/s]"
            ]
          },
          "metadata": {}
        },
        {
          "output_type": "display_data",
          "data": {
            "application/vnd.jupyter.widget-view+json": {
              "model_id": "7e640b70901c4ae6933aa483278bcdef",
              "version_minor": 0,
              "version_major": 2
            },
            "text/plain": [
              "Downloading:   0%|          | 0.00/570 [00:00<?, ?B/s]"
            ]
          },
          "metadata": {}
        },
        {
          "output_type": "display_data",
          "data": {
            "application/vnd.jupyter.widget-view+json": {
              "model_id": "ee894394fb5c4166aab41b885a7d1819",
              "version_minor": 0,
              "version_major": 2
            },
            "text/plain": [
              "Downloading:   0%|          | 0.00/208k [00:00<?, ?B/s]"
            ]
          },
          "metadata": {}
        },
        {
          "output_type": "display_data",
          "data": {
            "application/vnd.jupyter.widget-view+json": {
              "model_id": "da831c5b39e24270ac4f2b05ee7592f8",
              "version_minor": 0,
              "version_major": 2
            },
            "text/plain": [
              "Downloading:   0%|          | 0.00/426k [00:00<?, ?B/s]"
            ]
          },
          "metadata": {}
        },
        {
          "output_type": "display_data",
          "data": {
            "application/vnd.jupyter.widget-view+json": {
              "model_id": "f7b49386e406443e9610cc19a48a1f45",
              "version_minor": 0,
              "version_major": 2
            },
            "text/plain": [
              "Downloading:   0%|          | 0.00/416M [00:00<?, ?B/s]"
            ]
          },
          "metadata": {}
        },
        {
          "output_type": "stream",
          "name": "stderr",
          "text": [
            "Some weights of the model checkpoint at bert-base-cased were not used when initializing BertModel: ['cls.predictions.decoder.weight', 'cls.seq_relationship.bias', 'cls.predictions.bias', 'cls.seq_relationship.weight', 'cls.predictions.transform.LayerNorm.bias', 'cls.predictions.transform.LayerNorm.weight', 'cls.predictions.transform.dense.bias', 'cls.predictions.transform.dense.weight']\n",
            "- This IS expected if you are initializing BertModel from the checkpoint of a model trained on another task or with another architecture (e.g. initializing a BertForSequenceClassification model from a BertForPreTraining model).\n",
            "- This IS NOT expected if you are initializing BertModel from the checkpoint of a model that you expect to be exactly identical (initializing a BertForSequenceClassification model from a BertForSequenceClassification model).\n"
          ]
        }
      ]
    },
    {
      "cell_type": "code",
      "source": [
        "def get_word_idx(sent, word='treat'):\n",
        "     spl = sent.split()\n",
        "     idx = [spl.index(item) for item in spl if bool(re.match('treat', item, re.IGNORECASE))][0]\n",
        "     return idx\n",
        "\n",
        "def get_hidden_states(encoded, token_ids_word, model):\n",
        "     with torch.no_grad():\n",
        "         output = model(**encoded)\n",
        "     last_hidden_states = output[0].squeeze()\n",
        "     word_tokens_output = last_hidden_states[token_ids_word]\n",
        "     return word_tokens_output.mean(dim=0)\n",
        "\n",
        "def get_word_vector(sent, idx, tokenizer, model):\n",
        "     encoded = tokenizer.encode_plus(sent, return_tensors=\"pt\")\n",
        "     token_ids_word = np.where(np.array(encoded.word_ids()) == idx)\n",
        "     return get_hidden_states(encoded, token_ids_word, model)"
      ],
      "metadata": {
        "id": "JyR-2Ume4vWk"
      },
      "execution_count": null,
      "outputs": []
    },
    {
      "cell_type": "markdown",
      "source": [
        "Возьмем выборку из 51 предложения со словом 'treat', встречающемся в трех различных значениях: \"обращаться\" (с кем-либо как-либо), \"лечить\", \"угощать/баловать\". Извлечем скрытые состояния с последнего (12-го) слоя трансформера для слова 'treat' из каждого предложения (усредняя по сабтокенам, если их больше одного для данного слова). Далее с помощью алгоритма K-Means разделим все точки (51 шт.) на 3 кластера и проверим, преобладает ли в каждом кластере одно определенное значение из трёх."
      ],
      "metadata": {
        "id": "Tt6a4bM0zOZs"
      }
    },
    {
      "cell_type": "code",
      "source": [
        "sentences = [\n",
        "             'And you deserve to have someone treat you like a queen.',\n",
        "             '\"To think I should have come all the way from New York to treat him, with the cure right here,\" he observed to her, smilingly.',\n",
        "             'In some cases the Croatian authorities inexplicably treat members of the same family differently.',\n",
        "             '\"You treat a man as coward because he has a tactical sense.',\n",
        "             'And we can treat that.',\n",
        "             \"\"\"\"Well,\" returns the old man, \"it's true that I don't see company, Mr. George, and that I don't treat.\"\"\",\n",
        "             'I treat this woman and she exits.',\n",
        "             'Englishmen do not know how to treat women.',\n",
        "             'We will spend thy money there or at the theatre, or we will treat her to French wine or Cognac in the Aurelius Garden, but the tickets we will not buy.',\n",
        "             \"We haven't got enough beds; why should we treat foreigners?\",\n",
        "             'And you understand I have to treat this as a session.',\n",
        "             \"So let's treat her like any other mother.\",\n",
        "             'He hoped that the members would treat it accordingly.',\n",
        "             'All this was done on the inspiration of the moment: a second before he had no idea that he would go and treat the peasant woman.',\n",
        "             \"They treat us like we're lunch ladies.\",\n",
        "             'I need to treat George.',\n",
        "             'He requests you will not be offended, if he seems to take little notice of you in company, and only to treat you as a child.',\n",
        "             'However, if you can be reasonable, and receive and treat me as a friend, I will come as I used to.',\n",
        "             \"I'm having a hard time understanding why I would open her up when I could treat it endoscopically.\",\n",
        "             \"Let's go, Koreiko, my treat, I'm treating everyone!\",\n",
        "             'Well, then, treat me to some Lafitte with lemonade.',\n",
        "             'And she treated him to fine food and he smelt of oils and perfumes for months afterwards.',\n",
        "             \"Well, I thought I'd treat myself and wash the breakfast dishes first.\",\n",
        "             'At what point did you decide it was okay to treat people like this?',\n",
        "             \"I'm a doctor myself, and I treat myself on my own.\",\n",
        "             \"Our people we'll treat at Arkadia.\",\n",
        "             'I know you may treat this statement as compromised.',\n",
        "             \"My father didn't treat it as a story.\",\n",
        "             \"I've recommended we treat this as a hostile incursion.\",\n",
        "             \"I'm sick of the way you treat your wife, that's what!\",\n",
        "             \"You said to treat this like the real thing, right?\",\n",
        "             'Probably carjacked the doctor, forced him to treat her, and then she killed him.',\n",
        "             'He was willing to pay them handsomely, to keep them busy, to treat them with almost princely courtesy, but he must have the utmost loyalty.',\n",
        "             \"I don't care how we treat the dean tonight.\",\n",
        "             'What shall I treat you with, young people?',\n",
        "             \"Gentlemen students ... you ought to treat a little old man.\",\n",
        "             \"I'm gonna go ahead and treat myself.\",\n",
        "             \"I'm fed up with living here, the way you treat me...\",\n",
        "             \"If you want me to treat you, leave a deposit.\",\n",
        "             'I was called here to treat this lady.',\n",
        "             'We lost track of you the other night before I had a chance to treat your brain hemorrhage.',\n",
        "             'Treat this like a regular case.',\n",
        "             'Your Honor, permission to treat the witness as hostile.',\n",
        "             'Robert Zane to treat me like a partner, and then you turned around, and you cut my legs out.',\n",
        "             \"He didn't want Meggie to grow up, he wanted the little girl he could treat as his treasured babe.\",\n",
        "             \"You are free to treat this like a joke, Mr. Nighthorse, but you have 24 hours to respond to my client's complaint.\",\n",
        "             \"I will do what you wish and ask no questions; I will obey you with my life; treat me as a son, and you will find I have a son's devotion.\",\n",
        "             'You taught me exactly how I should treat you.',\n",
        "             'Later, maybe, I will treat you to champagne even. It will all depend on you.',\n",
        "             'He could treat himself to nicer digs.',\n",
        "             'While they treated us as a cross between naughty children and criminals up for sentencing.',\n",
        "  ]"
      ],
      "metadata": {
        "id": "ShIb2W8C6yK_"
      },
      "execution_count": null,
      "outputs": []
    },
    {
      "cell_type": "code",
      "source": [
        "sentences1 = [\n",
        "             'And you deserve to have someone treat you like a queen.',\n",
        "             '\"To think I should have come all the way from New York to treat him, with the cure right here,\" he observed to her, smilingly.',\n",
        "             'In some cases the Croatian authorities inexplicably treat members of the same family differently.',\n",
        "             '\"You treat a man as coward because he has a tactical sense.',\n",
        "             'And we can treat that.',\n",
        "             \"\"\"\"Well,\" returns the old man, \"it's true that I don't see company, Mr. George, and that I don't treat.\"\"\",\n",
        "             'I treat this woman and she exits.',\n",
        "             'Englishmen do not know how to treat women.',\n",
        "             'We will spend thy money there or at the theatre, or we will treat her to French wine or Cognac in the Aurelius Garden, but the tickets we will not buy.',\n",
        "             \"We haven't got enough beds; why should we treat foreigners?\",\n",
        "             'And you understand I have to treat this as a session.',\n",
        "             \"So let's treat her like any other mother.\",\n",
        "             'He hoped that the members would treat it accordingly.',\n",
        "             'All this was done on the inspiration of the moment: a second before he had no idea that he would go and treat the peasant woman.',\n",
        "             \"They treat us like we're lunch ladies.\",\n",
        "             'I need to treat George.',\n",
        "             'He requests you will not be offended, if he seems to take little notice of you in company, and only to treat you as a child.',\n",
        "             'However, if you can be reasonable, and receive and treat me as a friend, I will come as I used to.',\n",
        "             \"I'm having a hard time understanding why I would open her up when I could treat it endoscopically.\",\n",
        "             \"Let's go, Koreiko, my treat, I'm treating everyone!\",\n",
        "             'Well, then, treat me to some Lafitte with lemonade.',\n",
        "             'And she treated him to fine food and he smelt of oils and perfumes for months afterwards.',\n",
        "             \"Well, I thought I'd treat myself and wash the breakfast dishes first.\",\n",
        "             'At what point did you decide it was okay to treat people like this?',\n",
        "             \"I'm a doctor myself, and I treat myself on my own.\",\n",
        "             \"Our people we'll treat at Arkadia.\",\n",
        "             'I know you may treat this statement as compromised.',\n",
        "             \"My father didn't treat it as a story.\",\n",
        "             \"I've recommended we treat this as a hostile incursion.\",\n",
        "             'Probably carjacked the doctor, forced him to treat her, and then she killed him.',\n",
        "             \"I don't care how we treat the dean tonight.\",\n",
        "             'What shall I treat you with, young people?',\n",
        "             \"Gentlemen students ... you ought to treat a little old man.\",\n",
        "             \"I'm gonna go ahead and treat myself.\",\n",
        "             \"If you want me to treat you, leave a deposit.\",\n",
        "             'I was called here to treat this lady.',\n",
        "             'We lost track of you the other night before I had a chance to treat your brain hemorrhage.',\n",
        "             'Later, maybe, I will treat you to champagne even. It will all depend on you.',\n",
        "             'He could treat himself to nicer digs.'\n",
        "  ]"
      ],
      "metadata": {
        "id": "nY0BjAWaBRRb"
      },
      "execution_count": null,
      "outputs": []
    },
    {
      "cell_type": "code",
      "source": [
        "random.shuffle(sentences1)\n",
        "sentences1"
      ],
      "metadata": {
        "colab": {
          "base_uri": "https://localhost:8080/"
        },
        "id": "YIPf8tu3-d3v",
        "outputId": "cb7b27a4-6be4-4c2b-a667-7d1ff7aac7b8"
      },
      "execution_count": null,
      "outputs": [
        {
          "output_type": "execute_result",
          "data": {
            "text/plain": [
              "['If you want me to treat you, leave a deposit.',\n",
              " '\"Well,\" returns the old man, \"it\\'s true that I don\\'t see company, Mr. George, and that I don\\'t treat.',\n",
              " 'In some cases the Croatian authorities inexplicably treat members of the same family differently.',\n",
              " \"Our people we'll treat at Arkadia.\",\n",
              " 'What shall I treat you with, young people?',\n",
              " 'Gentlemen students ... you ought to treat a little old man.',\n",
              " \"Well, I thought I'd treat myself and wash the breakfast dishes first.\",\n",
              " \"I'm gonna go ahead and treat myself.\",\n",
              " 'And we can treat that.',\n",
              " 'He requests you will not be offended, if he seems to take little notice of you in company, and only to treat you as a child.',\n",
              " 'Well, then, treat me to some Lafitte with lemonade.',\n",
              " 'All this was done on the inspiration of the moment: a second before he had no idea that he would go and treat the peasant woman.',\n",
              " 'And you understand I have to treat this as a session.',\n",
              " \"So let's treat her like any other mother.\",\n",
              " 'He hoped that the members would treat it accordingly.',\n",
              " 'Englishmen do not know how to treat women.',\n",
              " 'We will spend thy money there or at the theatre, or we will treat her to French wine or Cognac in the Aurelius Garden, but the tickets we will not buy.',\n",
              " 'I was called here to treat this lady.',\n",
              " 'I know you may treat this statement as compromised.',\n",
              " 'And she treated him to fine food and he smelt of oils and perfumes for months afterwards.',\n",
              " \"I've recommended we treat this as a hostile incursion.\",\n",
              " \"We haven't got enough beds; why should we treat foreigners?\",\n",
              " \"My father didn't treat it as a story.\",\n",
              " 'And you deserve to have someone treat you like a queen.',\n",
              " 'Later, maybe, I will treat you to champagne even. It will all depend on you.',\n",
              " \"I'm a doctor myself, and I treat myself on my own.\",\n",
              " \"I'm having a hard time understanding why I would open her up when I could treat it endoscopically.\",\n",
              " \"I don't care how we treat the dean tonight.\",\n",
              " 'Probably carjacked the doctor, forced him to treat her, and then she killed him.',\n",
              " 'I need to treat George.',\n",
              " 'We lost track of you the other night before I had a chance to treat your brain hemorrhage.',\n",
              " '\"To think I should have come all the way from New York to treat him, with the cure right here,\" he observed to her, smilingly.',\n",
              " '\"You treat a man as coward because he has a tactical sense.',\n",
              " 'At what point did you decide it was okay to treat people like this?',\n",
              " 'I treat this woman and she exits.',\n",
              " \"They treat us like we're lunch ladies.\",\n",
              " \"Let's go, Koreiko, my treat, I'm treating everyone!\",\n",
              " 'He could treat himself to nicer digs.',\n",
              " 'However, if you can be reasonable, and receive and treat me as a friend, I will come as I used to.']"
            ]
          },
          "metadata": {},
          "execution_count": 10
        }
      ]
    },
    {
      "cell_type": "code",
      "source": [
        "embeddings = []\n",
        "\n",
        "for sent in sentences1:\n",
        "  word_idx = get_word_idx(sent)\n",
        "  word_embedding = get_word_vector(sent, word_idx, tokenizer, model)\n",
        "  embeddings.append(word_embedding.numpy())"
      ],
      "metadata": {
        "id": "qmkYApgO5X56"
      },
      "execution_count": null,
      "outputs": []
    },
    {
      "cell_type": "code",
      "source": [
        "X = np.array(embeddings)\n",
        "X.shape"
      ],
      "metadata": {
        "colab": {
          "base_uri": "https://localhost:8080/"
        },
        "id": "3Z0ZmA2SHCVs",
        "outputId": "7dcd0049-7ea7-49ba-a2c2-078e984597a8"
      },
      "execution_count": null,
      "outputs": [
        {
          "output_type": "execute_result",
          "data": {
            "text/plain": [
              "(39, 768)"
            ]
          },
          "metadata": {},
          "execution_count": 12
        }
      ]
    },
    {
      "cell_type": "code",
      "source": [
        "kmeans = KMeans(n_clusters=3, random_state=142).fit(X)"
      ],
      "metadata": {
        "id": "IF0MeJsnHk7z"
      },
      "execution_count": null,
      "outputs": []
    },
    {
      "cell_type": "code",
      "source": [
        "kmeans.cluster_centers_"
      ],
      "metadata": {
        "colab": {
          "base_uri": "https://localhost:8080/"
        },
        "id": "AflpSKGxHwTm",
        "outputId": "3f642777-7bba-488d-edd8-ab19c038f43c"
      },
      "execution_count": null,
      "outputs": [
        {
          "output_type": "execute_result",
          "data": {
            "text/plain": [
              "array([[ 0.24547376, -0.08751936,  0.12477576, ...,  0.19388887,\n",
              "        -0.7036678 ,  0.4829322 ],\n",
              "       [ 0.17091516,  0.04065641,  0.08496862, ...,  0.22686855,\n",
              "         0.07004869, -0.09520662],\n",
              "       [ 0.36464438,  0.51723385,  0.64648795, ..., -0.00351766,\n",
              "         0.24629536, -0.3740961 ]], dtype=float32)"
            ]
          },
          "metadata": {},
          "execution_count": 14
        }
      ]
    },
    {
      "cell_type": "code",
      "source": [
        "kmeans.labels_"
      ],
      "metadata": {
        "colab": {
          "base_uri": "https://localhost:8080/"
        },
        "id": "BZ1jr_9fLgrb",
        "outputId": "ec1be8b0-f4b4-43dc-bdff-5e468cd09162"
      },
      "execution_count": null,
      "outputs": [
        {
          "output_type": "execute_result",
          "data": {
            "text/plain": [
              "array([0, 1, 0, 1, 0, 1, 1, 2, 0, 1, 1, 1, 0, 1, 0, 0, 1, 0, 0, 0, 1, 1,\n",
              "       1, 0, 1, 1, 1, 1, 1, 0, 0, 1, 1, 0, 0, 0, 1, 0, 0], dtype=int32)"
            ]
          },
          "metadata": {},
          "execution_count": 15
        }
      ]
    },
    {
      "cell_type": "code",
      "source": [
        "for cluster in [0, 1, 2]:\n",
        "  print('Кластер {}:'.format(cluster+1), end='\\n')\n",
        "  for label, sent in zip(kmeans.labels_, sentences):\n",
        "    if label == cluster:\n",
        "      print(label, '\\t', sent)"
      ],
      "metadata": {
        "colab": {
          "base_uri": "https://localhost:8080/"
        },
        "id": "MwtZUN_tLxJB",
        "outputId": "1e670226-8f2a-4409-b806-b24eb281bb95"
      },
      "execution_count": null,
      "outputs": [
        {
          "output_type": "stream",
          "name": "stdout",
          "text": [
            "Кластер 1:\n",
            "0 \t And you deserve to have someone treat you like a queen.\n",
            "0 \t In some cases the Croatian authorities inexplicably treat members of the same family differently.\n",
            "0 \t And we can treat that.\n",
            "0 \t We will spend thy money there or at the theatre, or we will treat her to French wine or Cognac in the Aurelius Garden, but the tickets we will not buy.\n",
            "0 \t He hoped that the members would treat it accordingly.\n",
            "0 \t They treat us like we're lunch ladies.\n",
            "0 \t I need to treat George.\n",
            "0 \t However, if you can be reasonable, and receive and treat me as a friend, I will come as I used to.\n",
            "0 \t I'm having a hard time understanding why I would open her up when I could treat it endoscopically.\n",
            "0 \t Let's go, Koreiko, my treat, I'm treating everyone!\n",
            "0 \t At what point did you decide it was okay to treat people like this?\n",
            "0 \t I'm sick of the way you treat your wife, that's what!\n",
            "0 \t You said to treat this like the real thing, right?\n",
            "0 \t I don't care how we treat the dean tonight.\n",
            "0 \t What shall I treat you with, young people?\n",
            "0 \t Gentlemen students ... you ought to treat a little old man.\n",
            "0 \t I'm fed up with living here, the way you treat me...\n",
            "0 \t If you want me to treat you, leave a deposit.\n",
            "Кластер 2:\n",
            "1 \t \"To think I should have come all the way from New York to treat him, with the cure right here,\" he observed to her, smilingly.\n",
            "1 \t \"You treat a man as coward because he has a tactical sense.\n",
            "1 \t \"Well,\" returns the old man, \"it's true that I don't see company, Mr. George, and that I don't treat.\n",
            "1 \t I treat this woman and she exits.\n",
            "1 \t We haven't got enough beds; why should we treat foreigners?\n",
            "1 \t And you understand I have to treat this as a session.\n",
            "1 \t So let's treat her like any other mother.\n",
            "1 \t All this was done on the inspiration of the moment: a second before he had no idea that he would go and treat the peasant woman.\n",
            "1 \t He requests you will not be offended, if he seems to take little notice of you in company, and only to treat you as a child.\n",
            "1 \t Well, then, treat me to some Lafitte with lemonade.\n",
            "1 \t And she treated him to fine food and he smelt of oils and perfumes for months afterwards.\n",
            "1 \t Well, I thought I'd treat myself and wash the breakfast dishes first.\n",
            "1 \t I'm a doctor myself, and I treat myself on my own.\n",
            "1 \t Our people we'll treat at Arkadia.\n",
            "1 \t I know you may treat this statement as compromised.\n",
            "1 \t My father didn't treat it as a story.\n",
            "1 \t I've recommended we treat this as a hostile incursion.\n",
            "1 \t Probably carjacked the doctor, forced him to treat her, and then she killed him.\n",
            "1 \t He was willing to pay them handsomely, to keep them busy, to treat them with almost princely courtesy, but he must have the utmost loyalty.\n",
            "1 \t I'm gonna go ahead and treat myself.\n",
            "Кластер 3:\n",
            "2 \t Englishmen do not know how to treat women.\n"
          ]
        }
      ]
    },
    {
      "cell_type": "code",
      "source": [
        "meanings = np.array([[3, 11, 12],\n",
        "          [1, 4, 7],\n",
        "          [3, 6, 3]]).T"
      ],
      "metadata": {
        "id": "9qUMJxiLy8tE"
      },
      "execution_count": null,
      "outputs": []
    },
    {
      "cell_type": "code",
      "source": [
        "normed_matrix = normalize(meanings, axis=1, norm='l1')\n",
        "normed_matrix"
      ],
      "metadata": {
        "colab": {
          "base_uri": "https://localhost:8080/"
        },
        "outputId": "a2cb3b53-3121-4b97-9227-3439d1167dc3",
        "id": "jlrOm0ZTy8tE"
      },
      "execution_count": null,
      "outputs": [
        {
          "output_type": "execute_result",
          "data": {
            "text/plain": [
              "array([[0.42857143, 0.14285714, 0.42857143],\n",
              "       [0.52380952, 0.19047619, 0.28571429],\n",
              "       [0.54545455, 0.31818182, 0.13636364]])"
            ]
          },
          "metadata": {},
          "execution_count": 18
        }
      ]
    },
    {
      "cell_type": "code",
      "source": [
        "df = pd.DataFrame(normed_matrix)\n",
        "df.columns = ['обращаться', 'лечить', 'угощать']\n",
        "df"
      ],
      "metadata": {
        "colab": {
          "base_uri": "https://localhost:8080/",
          "height": 144
        },
        "outputId": "07cd7b5a-1171-46a8-91e5-86a4d9bf0e54",
        "id": "jHs0Gu6dy8tF"
      },
      "execution_count": null,
      "outputs": [
        {
          "output_type": "execute_result",
          "data": {
            "text/html": [
              "\n",
              "  <div id=\"df-9bc0b0dc-7c47-4734-8e04-115e6c7f52e6\">\n",
              "    <div class=\"colab-df-container\">\n",
              "      <div>\n",
              "<style scoped>\n",
              "    .dataframe tbody tr th:only-of-type {\n",
              "        vertical-align: middle;\n",
              "    }\n",
              "\n",
              "    .dataframe tbody tr th {\n",
              "        vertical-align: top;\n",
              "    }\n",
              "\n",
              "    .dataframe thead th {\n",
              "        text-align: right;\n",
              "    }\n",
              "</style>\n",
              "<table border=\"1\" class=\"dataframe\">\n",
              "  <thead>\n",
              "    <tr style=\"text-align: right;\">\n",
              "      <th></th>\n",
              "      <th>обращаться</th>\n",
              "      <th>лечить</th>\n",
              "      <th>угощать</th>\n",
              "    </tr>\n",
              "  </thead>\n",
              "  <tbody>\n",
              "    <tr>\n",
              "      <th>0</th>\n",
              "      <td>0.428571</td>\n",
              "      <td>0.142857</td>\n",
              "      <td>0.428571</td>\n",
              "    </tr>\n",
              "    <tr>\n",
              "      <th>1</th>\n",
              "      <td>0.523810</td>\n",
              "      <td>0.190476</td>\n",
              "      <td>0.285714</td>\n",
              "    </tr>\n",
              "    <tr>\n",
              "      <th>2</th>\n",
              "      <td>0.545455</td>\n",
              "      <td>0.318182</td>\n",
              "      <td>0.136364</td>\n",
              "    </tr>\n",
              "  </tbody>\n",
              "</table>\n",
              "</div>\n",
              "      <button class=\"colab-df-convert\" onclick=\"convertToInteractive('df-9bc0b0dc-7c47-4734-8e04-115e6c7f52e6')\"\n",
              "              title=\"Convert this dataframe to an interactive table.\"\n",
              "              style=\"display:none;\">\n",
              "        \n",
              "  <svg xmlns=\"http://www.w3.org/2000/svg\" height=\"24px\"viewBox=\"0 0 24 24\"\n",
              "       width=\"24px\">\n",
              "    <path d=\"M0 0h24v24H0V0z\" fill=\"none\"/>\n",
              "    <path d=\"M18.56 5.44l.94 2.06.94-2.06 2.06-.94-2.06-.94-.94-2.06-.94 2.06-2.06.94zm-11 1L8.5 8.5l.94-2.06 2.06-.94-2.06-.94L8.5 2.5l-.94 2.06-2.06.94zm10 10l.94 2.06.94-2.06 2.06-.94-2.06-.94-.94-2.06-.94 2.06-2.06.94z\"/><path d=\"M17.41 7.96l-1.37-1.37c-.4-.4-.92-.59-1.43-.59-.52 0-1.04.2-1.43.59L10.3 9.45l-7.72 7.72c-.78.78-.78 2.05 0 2.83L4 21.41c.39.39.9.59 1.41.59.51 0 1.02-.2 1.41-.59l7.78-7.78 2.81-2.81c.8-.78.8-2.07 0-2.86zM5.41 20L4 18.59l7.72-7.72 1.47 1.35L5.41 20z\"/>\n",
              "  </svg>\n",
              "      </button>\n",
              "      \n",
              "  <style>\n",
              "    .colab-df-container {\n",
              "      display:flex;\n",
              "      flex-wrap:wrap;\n",
              "      gap: 12px;\n",
              "    }\n",
              "\n",
              "    .colab-df-convert {\n",
              "      background-color: #E8F0FE;\n",
              "      border: none;\n",
              "      border-radius: 50%;\n",
              "      cursor: pointer;\n",
              "      display: none;\n",
              "      fill: #1967D2;\n",
              "      height: 32px;\n",
              "      padding: 0 0 0 0;\n",
              "      width: 32px;\n",
              "    }\n",
              "\n",
              "    .colab-df-convert:hover {\n",
              "      background-color: #E2EBFA;\n",
              "      box-shadow: 0px 1px 2px rgba(60, 64, 67, 0.3), 0px 1px 3px 1px rgba(60, 64, 67, 0.15);\n",
              "      fill: #174EA6;\n",
              "    }\n",
              "\n",
              "    [theme=dark] .colab-df-convert {\n",
              "      background-color: #3B4455;\n",
              "      fill: #D2E3FC;\n",
              "    }\n",
              "\n",
              "    [theme=dark] .colab-df-convert:hover {\n",
              "      background-color: #434B5C;\n",
              "      box-shadow: 0px 1px 3px 1px rgba(0, 0, 0, 0.15);\n",
              "      filter: drop-shadow(0px 1px 2px rgba(0, 0, 0, 0.3));\n",
              "      fill: #FFFFFF;\n",
              "    }\n",
              "  </style>\n",
              "\n",
              "      <script>\n",
              "        const buttonEl =\n",
              "          document.querySelector('#df-9bc0b0dc-7c47-4734-8e04-115e6c7f52e6 button.colab-df-convert');\n",
              "        buttonEl.style.display =\n",
              "          google.colab.kernel.accessAllowed ? 'block' : 'none';\n",
              "\n",
              "        async function convertToInteractive(key) {\n",
              "          const element = document.querySelector('#df-9bc0b0dc-7c47-4734-8e04-115e6c7f52e6');\n",
              "          const dataTable =\n",
              "            await google.colab.kernel.invokeFunction('convertToInteractive',\n",
              "                                                     [key], {});\n",
              "          if (!dataTable) return;\n",
              "\n",
              "          const docLinkHtml = 'Like what you see? Visit the ' +\n",
              "            '<a target=\"_blank\" href=https://colab.research.google.com/notebooks/data_table.ipynb>data table notebook</a>'\n",
              "            + ' to learn more about interactive tables.';\n",
              "          element.innerHTML = '';\n",
              "          dataTable['output_type'] = 'display_data';\n",
              "          await google.colab.output.renderOutput(dataTable, element);\n",
              "          const docLink = document.createElement('div');\n",
              "          docLink.innerHTML = docLinkHtml;\n",
              "          element.appendChild(docLink);\n",
              "        }\n",
              "      </script>\n",
              "    </div>\n",
              "  </div>\n",
              "  "
            ],
            "text/plain": [
              "   обращаться    лечить   угощать\n",
              "0    0.428571  0.142857  0.428571\n",
              "1    0.523810  0.190476  0.285714\n",
              "2    0.545455  0.318182  0.136364"
            ]
          },
          "metadata": {},
          "execution_count": 19
        }
      ]
    },
    {
      "cell_type": "markdown",
      "source": [
        "В таблице по строчкам представлены доли каждого из значений глагола 'treat' в каждом кластере. Из этих данных нельзя сказать, что в одном кластере преобладает одно значение, в другом - другое, а в третьем - третье. Например, значение \"обращаться\" преобладает во всех трех кластерах. Таким образом, в данном случае точки не группируются по значениям слова, либо качество кластеризации не позволяет этого увидеть."
      ],
      "metadata": {
        "id": "OJIAWnnDzGp4"
      }
    },
    {
      "cell_type": "code",
      "source": [],
      "metadata": {
        "id": "tn0dJ8VybPIy"
      },
      "execution_count": null,
      "outputs": []
    },
    {
      "cell_type": "code",
      "source": [
        "hierarchy.set_link_color_palette(['m', 'c', 'y', 'k'])\n",
        "linked = hierarchy.linkage(X, 'ward', 'euclidean')\n",
        "\n",
        "labelList = range(1, 52)\n",
        "\n",
        "plt.figure(figsize=(20, 15))\n",
        "hierarchy.dendrogram(linked, above_threshold_color='y')\n",
        "plt.show()"
      ],
      "metadata": {
        "colab": {
          "base_uri": "https://localhost:8080/",
          "height": 867
        },
        "id": "QtNBFyAybPSF",
        "outputId": "c4c836ab-da27-4af3-af43-f9918e3d9e0f"
      },
      "execution_count": null,
      "outputs": [
        {
          "output_type": "display_data",
          "data": {
            "image/png": "[encoded data removed]",
            "text/plain": [
              "<Figure size 1440x1080 with 1 Axes>"
            ]
          },
          "metadata": {
            "needs_background": "light"
          }
        }
      ]
    },
    {
      "cell_type": "code",
      "source": [
        "# кластеризация с расстоянием Варда\n",
        "cluster = AgglomerativeClustering(n_clusters=2, affinity='euclidean', linkage='ward')\n",
        "cluster.fit_predict(X)\n"
      ],
      "metadata": {
        "colab": {
          "base_uri": "https://localhost:8080/"
        },
        "id": "Hu1V9F3tfdBA",
        "outputId": "5117f63a-2099-48aa-ef4a-e7dc647473e9"
      },
      "execution_count": null,
      "outputs": [
        {
          "output_type": "execute_result",
          "data": {
            "text/plain": [
              "array([1, 0, 1, 0, 1, 0, 0, 0, 1, 0, 0, 0, 1, 0, 1, 1, 0, 1, 1, 1, 0, 0,\n",
              "       0, 1, 0, 0, 0, 0, 0, 1, 1, 0, 0, 1, 1, 1, 0, 1, 1])"
            ]
          },
          "metadata": {},
          "execution_count": 21
        }
      ]
    },
    {
      "cell_type": "code",
      "source": [
        "for clust in [0, 1]:\n",
        "  print('Cluster ', clust)\n",
        "  for label, sent in zip(cluster.fit_predict(X), sentences1):\n",
        "    if label == clust:\n",
        "      print(label, '\\t', sent)"
      ],
      "metadata": {
        "colab": {
          "base_uri": "https://localhost:8080/"
        },
        "id": "NPCztTa8lHhH",
        "outputId": "8e0674dc-146e-4a0e-bf9a-a56470b4d2a0"
      },
      "execution_count": null,
      "outputs": [
        {
          "output_type": "stream",
          "name": "stdout",
          "text": [
            "Cluster  0\n",
            "0 \t \"Well,\" returns the old man, \"it's true that I don't see company, Mr. George, and that I don't treat.\n",
            "0 \t Our people we'll treat at Arkadia.\n",
            "0 \t Gentlemen students ... you ought to treat a little old man.\n",
            "0 \t Well, I thought I'd treat myself and wash the breakfast dishes first.\n",
            "0 \t I'm gonna go ahead and treat myself.\n",
            "0 \t He requests you will not be offended, if he seems to take little notice of you in company, and only to treat you as a child.\n",
            "0 \t Well, then, treat me to some Lafitte with lemonade.\n",
            "0 \t All this was done on the inspiration of the moment: a second before he had no idea that he would go and treat the peasant woman.\n",
            "0 \t So let's treat her like any other mother.\n",
            "0 \t We will spend thy money there or at the theatre, or we will treat her to French wine or Cognac in the Aurelius Garden, but the tickets we will not buy.\n",
            "0 \t I've recommended we treat this as a hostile incursion.\n",
            "0 \t We haven't got enough beds; why should we treat foreigners?\n",
            "0 \t My father didn't treat it as a story.\n",
            "0 \t Later, maybe, I will treat you to champagne even. It will all depend on you.\n",
            "0 \t I'm a doctor myself, and I treat myself on my own.\n",
            "0 \t I'm having a hard time understanding why I would open her up when I could treat it endoscopically.\n",
            "0 \t I don't care how we treat the dean tonight.\n",
            "0 \t Probably carjacked the doctor, forced him to treat her, and then she killed him.\n",
            "0 \t \"To think I should have come all the way from New York to treat him, with the cure right here,\" he observed to her, smilingly.\n",
            "0 \t \"You treat a man as coward because he has a tactical sense.\n",
            "0 \t Let's go, Koreiko, my treat, I'm treating everyone!\n",
            "Cluster  1\n",
            "1 \t If you want me to treat you, leave a deposit.\n",
            "1 \t In some cases the Croatian authorities inexplicably treat members of the same family differently.\n",
            "1 \t What shall I treat you with, young people?\n",
            "1 \t And we can treat that.\n",
            "1 \t And you understand I have to treat this as a session.\n",
            "1 \t He hoped that the members would treat it accordingly.\n",
            "1 \t Englishmen do not know how to treat women.\n",
            "1 \t I was called here to treat this lady.\n",
            "1 \t I know you may treat this statement as compromised.\n",
            "1 \t And she treated him to fine food and he smelt of oils and perfumes for months afterwards.\n",
            "1 \t And you deserve to have someone treat you like a queen.\n",
            "1 \t I need to treat George.\n",
            "1 \t We lost track of you the other night before I had a chance to treat your brain hemorrhage.\n",
            "1 \t At what point did you decide it was okay to treat people like this?\n",
            "1 \t I treat this woman and she exits.\n",
            "1 \t They treat us like we're lunch ladies.\n",
            "1 \t He could treat himself to nicer digs.\n",
            "1 \t However, if you can be reasonable, and receive and treat me as a friend, I will come as I used to.\n"
          ]
        }
      ]
    },
    {
      "cell_type": "code",
      "source": [
        "linked = hierarchy.linkage(X, 'average', 'cityblock')\n",
        "\n",
        "labelList = range(1, 52)\n",
        "\n",
        "plt.figure(figsize=(20, 15))\n",
        "hierarchy.dendrogram(linked, above_threshold_color='y')\n",
        "plt.show()"
      ],
      "metadata": {
        "colab": {
          "base_uri": "https://localhost:8080/",
          "height": 867
        },
        "id": "WZr4DmBYMNua",
        "outputId": "dfcd1a49-ae26-4a1b-f2c0-4698fe4ba810"
      },
      "execution_count": null,
      "outputs": [
        {
          "output_type": "display_data",
          "data": {
            "image/png": "[encoded data removed]",
            "text/plain": [
              "<Figure size 1440x1080 with 1 Axes>"
            ]
          },
          "metadata": {
            "needs_background": "light"
          }
        }
      ]
    }
  ]
}