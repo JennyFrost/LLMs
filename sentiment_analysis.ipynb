{
  "cells": [
    {
      "cell_type": "markdown",
      "metadata": {
        "id": "view-in-github",
        "colab_type": "text"
      },
      "source": [
        "<a href=\"https://colab.research.google.com/github/JennyFrost/ML_and_LLMs/blob/main/sentiment_analysis.ipynb\" target=\"_parent\"><img src=\"https://colab.research.google.com/assets/colab-badge.svg\" alt=\"Open In Colab\"/></a>"
      ]
    },
    {
      "cell_type": "code",
      "execution_count": null,
      "metadata": {
        "colab": {
          "base_uri": "https://localhost:8080/"
        },
        "id": "oDPAfNXLHs5C",
        "outputId": "a7a78f18-ba3f-4374-89c2-7bb00eac9ff8"
      },
      "outputs": [
        {
          "name": "stdout",
          "output_type": "stream",
          "text": [
            "Mounted at /content/drive\n"
          ]
        }
      ],
      "source": [
        "from google.colab import drive\n",
        "drive.mount('/content/drive')"
      ]
    },
    {
      "cell_type": "code",
      "execution_count": null,
      "metadata": {
        "colab": {
          "base_uri": "https://localhost:8080/"
        },
        "id": "aBPht-cw_pwn",
        "outputId": "9e3fa764-fc6f-4495-f474-83905fbe0498"
      },
      "outputs": [
        {
          "name": "stdout",
          "output_type": "stream",
          "text": [
            "Collecting openai\n",
            "  Downloading openai-0.28.1-py3-none-any.whl (76 kB)\n",
            "\u001b[2K     \u001b[90m━━━━━━━━━━━━━━━━━━━━━━━━━━━━━━━━━━━━━━━━\u001b[0m \u001b[32m77.0/77.0 kB\u001b[0m \u001b[31m1.4 MB/s\u001b[0m eta \u001b[36m0:00:00\u001b[0m\n",
            "\u001b[?25hRequirement already satisfied: requests>=2.20 in /usr/local/lib/python3.10/dist-packages (from openai) (2.31.0)\n",
            "Requirement already satisfied: tqdm in /usr/local/lib/python3.10/dist-packages (from openai) (4.66.1)\n",
            "Requirement already satisfied: aiohttp in /usr/local/lib/python3.10/dist-packages (from openai) (3.8.6)\n",
            "Requirement already satisfied: charset-normalizer<4,>=2 in /usr/local/lib/python3.10/dist-packages (from requests>=2.20->openai) (3.3.0)\n",
            "Requirement already satisfied: idna<4,>=2.5 in /usr/local/lib/python3.10/dist-packages (from requests>=2.20->openai) (3.4)\n",
            "Requirement already satisfied: urllib3<3,>=1.21.1 in /usr/local/lib/python3.10/dist-packages (from requests>=2.20->openai) (2.0.6)\n",
            "Requirement already satisfied: certifi>=2017.4.17 in /usr/local/lib/python3.10/dist-packages (from requests>=2.20->openai) (2023.7.22)\n",
            "Requirement already satisfied: attrs>=17.3.0 in /usr/local/lib/python3.10/dist-packages (from aiohttp->openai) (23.1.0)\n",
            "Requirement already satisfied: multidict<7.0,>=4.5 in /usr/local/lib/python3.10/dist-packages (from aiohttp->openai) (6.0.4)\n",
            "Requirement already satisfied: async-timeout<5.0,>=4.0.0a3 in /usr/local/lib/python3.10/dist-packages (from aiohttp->openai) (4.0.3)\n",
            "Requirement already satisfied: yarl<2.0,>=1.0 in /usr/local/lib/python3.10/dist-packages (from aiohttp->openai) (1.9.2)\n",
            "Requirement already satisfied: frozenlist>=1.1.1 in /usr/local/lib/python3.10/dist-packages (from aiohttp->openai) (1.4.0)\n",
            "Requirement already satisfied: aiosignal>=1.1.2 in /usr/local/lib/python3.10/dist-packages (from aiohttp->openai) (1.3.1)\n",
            "Installing collected packages: openai\n",
            "\u001b[31mERROR: pip's dependency resolver does not currently take into account all the packages that are installed. This behaviour is the source of the following dependency conflicts.\n",
            "llmx 0.0.15a0 requires cohere, which is not installed.\n",
            "llmx 0.0.15a0 requires tiktoken, which is not installed.\u001b[0m\u001b[31m\n",
            "\u001b[0mSuccessfully installed openai-0.28.1\n",
            "Requirement already satisfied: nltk in /usr/local/lib/python3.10/dist-packages (3.8.1)\n",
            "Requirement already satisfied: click in /usr/local/lib/python3.10/dist-packages (from nltk) (8.1.7)\n",
            "Requirement already satisfied: joblib in /usr/local/lib/python3.10/dist-packages (from nltk) (1.3.2)\n",
            "Requirement already satisfied: regex>=2021.8.3 in /usr/local/lib/python3.10/dist-packages (from nltk) (2023.6.3)\n",
            "Requirement already satisfied: tqdm in /usr/local/lib/python3.10/dist-packages (from nltk) (4.66.1)\n",
            "Requirement already satisfied: spacy in /usr/local/lib/python3.10/dist-packages (3.6.1)\n",
            "Collecting spacy\n",
            "  Downloading spacy-3.7.2-cp310-cp310-manylinux_2_17_x86_64.manylinux2014_x86_64.whl (6.6 MB)\n",
            "\u001b[2K     \u001b[90m━━━━━━━━━━━━━━━━━━━━━━━━━━━━━━━━━━━━━━━━\u001b[0m \u001b[32m6.6/6.6 MB\u001b[0m \u001b[31m50.9 MB/s\u001b[0m eta \u001b[36m0:00:00\u001b[0m\n",
            "\u001b[?25hRequirement already satisfied: spacy-legacy<3.1.0,>=3.0.11 in /usr/local/lib/python3.10/dist-packages (from spacy) (3.0.12)\n",
            "Requirement already satisfied: spacy-loggers<2.0.0,>=1.0.0 in /usr/local/lib/python3.10/dist-packages (from spacy) (1.0.5)\n",
            "Requirement already satisfied: murmurhash<1.1.0,>=0.28.0 in /usr/local/lib/python3.10/dist-packages (from spacy) (1.0.10)\n",
            "Requirement already satisfied: cymem<2.1.0,>=2.0.2 in /usr/local/lib/python3.10/dist-packages (from spacy) (2.0.8)\n",
            "Requirement already satisfied: preshed<3.1.0,>=3.0.2 in /usr/local/lib/python3.10/dist-packages (from spacy) (3.0.9)\n",
            "Requirement already satisfied: thinc<8.3.0,>=8.1.8 in /usr/local/lib/python3.10/dist-packages (from spacy) (8.1.12)\n",
            "Requirement already satisfied: wasabi<1.2.0,>=0.9.1 in /usr/local/lib/python3.10/dist-packages (from spacy) (1.1.2)\n",
            "Requirement already satisfied: srsly<3.0.0,>=2.4.3 in /usr/local/lib/python3.10/dist-packages (from spacy) (2.4.8)\n",
            "Requirement already satisfied: catalogue<2.1.0,>=2.0.6 in /usr/local/lib/python3.10/dist-packages (from spacy) (2.0.10)\n",
            "Collecting weasel<0.4.0,>=0.1.0 (from spacy)\n",
            "  Downloading weasel-0.3.3-py3-none-any.whl (49 kB)\n",
            "\u001b[2K     \u001b[90m━━━━━━━━━━━━━━━━━━━━━━━━━━━━━━━━━━━━━━━━\u001b[0m \u001b[32m49.8/49.8 kB\u001b[0m \u001b[31m138.3 MB/s\u001b[0m eta \u001b[36m0:00:00\u001b[0m\n",
            "\u001b[?25hRequirement already satisfied: typer<0.10.0,>=0.3.0 in /usr/local/lib/python3.10/dist-packages (from spacy) (0.9.0)\n",
            "Requirement already satisfied: smart-open<7.0.0,>=5.2.1 in /usr/local/lib/python3.10/dist-packages (from spacy) (6.4.0)\n",
            "Requirement already satisfied: tqdm<5.0.0,>=4.38.0 in /usr/local/lib/python3.10/dist-packages (from spacy) (4.66.1)\n",
            "Requirement already satisfied: requests<3.0.0,>=2.13.0 in /usr/local/lib/python3.10/dist-packages (from spacy) (2.31.0)\n",
            "Requirement already satisfied: pydantic!=1.8,!=1.8.1,<3.0.0,>=1.7.4 in /usr/local/lib/python3.10/dist-packages (from spacy) (1.10.13)\n",
            "Requirement already satisfied: jinja2 in /usr/local/lib/python3.10/dist-packages (from spacy) (3.1.2)\n",
            "Requirement already satisfied: setuptools in /usr/local/lib/python3.10/dist-packages (from spacy) (67.7.2)\n",
            "Requirement already satisfied: packaging>=20.0 in /usr/local/lib/python3.10/dist-packages (from spacy) (23.2)\n",
            "Requirement already satisfied: langcodes<4.0.0,>=3.2.0 in /usr/local/lib/python3.10/dist-packages (from spacy) (3.3.0)\n",
            "Requirement already satisfied: numpy>=1.19.0 in /usr/local/lib/python3.10/dist-packages (from spacy) (1.23.5)\n",
            "Requirement already satisfied: typing-extensions>=4.2.0 in /usr/local/lib/python3.10/dist-packages (from pydantic!=1.8,!=1.8.1,<3.0.0,>=1.7.4->spacy) (4.5.0)\n",
            "Requirement already satisfied: charset-normalizer<4,>=2 in /usr/local/lib/python3.10/dist-packages (from requests<3.0.0,>=2.13.0->spacy) (3.3.0)\n",
            "Requirement already satisfied: idna<4,>=2.5 in /usr/local/lib/python3.10/dist-packages (from requests<3.0.0,>=2.13.0->spacy) (3.4)\n",
            "Requirement already satisfied: urllib3<3,>=1.21.1 in /usr/local/lib/python3.10/dist-packages (from requests<3.0.0,>=2.13.0->spacy) (2.0.6)\n",
            "Requirement already satisfied: certifi>=2017.4.17 in /usr/local/lib/python3.10/dist-packages (from requests<3.0.0,>=2.13.0->spacy) (2023.7.22)\n",
            "Requirement already satisfied: blis<0.8.0,>=0.7.8 in /usr/local/lib/python3.10/dist-packages (from thinc<8.3.0,>=8.1.8->spacy) (0.7.11)\n",
            "Requirement already satisfied: confection<1.0.0,>=0.0.1 in /usr/local/lib/python3.10/dist-packages (from thinc<8.3.0,>=8.1.8->spacy) (0.1.3)\n",
            "Requirement already satisfied: click<9.0.0,>=7.1.1 in /usr/local/lib/python3.10/dist-packages (from typer<0.10.0,>=0.3.0->spacy) (8.1.7)\n",
            "Collecting cloudpathlib<0.17.0,>=0.7.0 (from weasel<0.4.0,>=0.1.0->spacy)\n",
            "  Downloading cloudpathlib-0.16.0-py3-none-any.whl (45 kB)\n",
            "\u001b[2K     \u001b[90m━━━━━━━━━━━━━━━━━━━━━━━━━━━━━━━━━━━━━━━━\u001b[0m \u001b[32m45.0/45.0 kB\u001b[0m \u001b[31m143.2 MB/s\u001b[0m eta \u001b[36m0:00:00\u001b[0m\n",
            "\u001b[?25hRequirement already satisfied: MarkupSafe>=2.0 in /usr/local/lib/python3.10/dist-packages (from jinja2->spacy) (2.1.3)\n",
            "Installing collected packages: cloudpathlib, weasel, spacy\n",
            "  Attempting uninstall: spacy\n",
            "    Found existing installation: spacy 3.6.1\n",
            "    Uninstalling spacy-3.6.1:\n",
            "      Successfully uninstalled spacy-3.6.1\n",
            "\u001b[31mERROR: pip's dependency resolver does not currently take into account all the packages that are installed. This behaviour is the source of the following dependency conflicts.\n",
            "en-core-web-sm 3.6.0 requires spacy<3.7.0,>=3.6.0, but you have spacy 3.7.2 which is incompatible.\u001b[0m\u001b[31m\n",
            "\u001b[0mSuccessfully installed cloudpathlib-0.16.0 spacy-3.7.2 weasel-0.3.3\n",
            "2023-10-18 16:35:13.764591: I tensorflow/core/platform/cpu_feature_guard.cc:182] This TensorFlow binary is optimized to use available CPU instructions in performance-critical operations.\n",
            "To enable the following instructions: AVX2 FMA, in other operations, rebuild TensorFlow with the appropriate compiler flags.\n",
            "2023-10-18 16:35:15.233775: W tensorflow/compiler/tf2tensorrt/utils/py_utils.cc:38] TF-TRT Warning: Could not find TensorRT\n",
            "Collecting ru-core-news-lg==3.7.0\n",
            "  Downloading https://github.com/explosion/spacy-models/releases/download/ru_core_news_lg-3.7.0/ru_core_news_lg-3.7.0-py3-none-any.whl (513.4 MB)\n",
            "\u001b[2K     \u001b[90m━━━━━━━━━━━━━━━━━━━━━━━━━━━━━━━━━━━━━━━━\u001b[0m \u001b[32m513.4/513.4 MB\u001b[0m \u001b[31m2.2 MB/s\u001b[0m eta \u001b[36m0:00:00\u001b[0m\n",
            "\u001b[?25hRequirement already satisfied: spacy<3.8.0,>=3.7.0 in /usr/local/lib/python3.10/dist-packages (from ru-core-news-lg==3.7.0) (3.7.2)\n",
            "Collecting pymorphy3>=1.0.0 (from ru-core-news-lg==3.7.0)\n",
            "  Downloading pymorphy3-1.2.1-py3-none-any.whl (55 kB)\n",
            "\u001b[2K     \u001b[90m━━━━━━━━━━━━━━━━━━━━━━━━━━━━━━━━━━━━━━━━\u001b[0m \u001b[32m55.4/55.4 kB\u001b[0m \u001b[31m1.4 MB/s\u001b[0m eta \u001b[36m0:00:00\u001b[0m\n",
            "\u001b[?25hCollecting dawg-python>=0.7.1 (from pymorphy3>=1.0.0->ru-core-news-lg==3.7.0)\n",
            "  Downloading DAWG_Python-0.7.2-py2.py3-none-any.whl (11 kB)\n",
            "Collecting docopt-ng>=0.6 (from pymorphy3>=1.0.0->ru-core-news-lg==3.7.0)\n",
            "  Downloading docopt_ng-0.9.0-py3-none-any.whl (16 kB)\n",
            "Collecting pymorphy3-dicts-ru (from pymorphy3>=1.0.0->ru-core-news-lg==3.7.0)\n",
            "  Downloading pymorphy3_dicts_ru-2.4.417150.4580142-py2.py3-none-any.whl (8.4 MB)\n",
            "\u001b[2K     \u001b[90m━━━━━━━━━━━━━━━━━━━━━━━━━━━━━━━━━━━━━━━━\u001b[0m \u001b[32m8.4/8.4 MB\u001b[0m \u001b[31m51.6 MB/s\u001b[0m eta \u001b[36m0:00:00\u001b[0m\n",
            "\u001b[?25hRequirement already satisfied: spacy-legacy<3.1.0,>=3.0.11 in /usr/local/lib/python3.10/dist-packages (from spacy<3.8.0,>=3.7.0->ru-core-news-lg==3.7.0) (3.0.12)\n",
            "Requirement already satisfied: spacy-loggers<2.0.0,>=1.0.0 in /usr/local/lib/python3.10/dist-packages (from spacy<3.8.0,>=3.7.0->ru-core-news-lg==3.7.0) (1.0.5)\n",
            "Requirement already satisfied: murmurhash<1.1.0,>=0.28.0 in /usr/local/lib/python3.10/dist-packages (from spacy<3.8.0,>=3.7.0->ru-core-news-lg==3.7.0) (1.0.10)\n",
            "Requirement already satisfied: cymem<2.1.0,>=2.0.2 in /usr/local/lib/python3.10/dist-packages (from spacy<3.8.0,>=3.7.0->ru-core-news-lg==3.7.0) (2.0.8)\n",
            "Requirement already satisfied: preshed<3.1.0,>=3.0.2 in /usr/local/lib/python3.10/dist-packages (from spacy<3.8.0,>=3.7.0->ru-core-news-lg==3.7.0) (3.0.9)\n",
            "Requirement already satisfied: thinc<8.3.0,>=8.1.8 in /usr/local/lib/python3.10/dist-packages (from spacy<3.8.0,>=3.7.0->ru-core-news-lg==3.7.0) (8.1.12)\n",
            "Requirement already satisfied: wasabi<1.2.0,>=0.9.1 in /usr/local/lib/python3.10/dist-packages (from spacy<3.8.0,>=3.7.0->ru-core-news-lg==3.7.0) (1.1.2)\n",
            "Requirement already satisfied: srsly<3.0.0,>=2.4.3 in /usr/local/lib/python3.10/dist-packages (from spacy<3.8.0,>=3.7.0->ru-core-news-lg==3.7.0) (2.4.8)\n",
            "Requirement already satisfied: catalogue<2.1.0,>=2.0.6 in /usr/local/lib/python3.10/dist-packages (from spacy<3.8.0,>=3.7.0->ru-core-news-lg==3.7.0) (2.0.10)\n",
            "Requirement already satisfied: weasel<0.4.0,>=0.1.0 in /usr/local/lib/python3.10/dist-packages (from spacy<3.8.0,>=3.7.0->ru-core-news-lg==3.7.0) (0.3.3)\n",
            "Requirement already satisfied: typer<0.10.0,>=0.3.0 in /usr/local/lib/python3.10/dist-packages (from spacy<3.8.0,>=3.7.0->ru-core-news-lg==3.7.0) (0.9.0)\n",
            "Requirement already satisfied: smart-open<7.0.0,>=5.2.1 in /usr/local/lib/python3.10/dist-packages (from spacy<3.8.0,>=3.7.0->ru-core-news-lg==3.7.0) (6.4.0)\n",
            "Requirement already satisfied: tqdm<5.0.0,>=4.38.0 in /usr/local/lib/python3.10/dist-packages (from spacy<3.8.0,>=3.7.0->ru-core-news-lg==3.7.0) (4.66.1)\n",
            "Requirement already satisfied: requests<3.0.0,>=2.13.0 in /usr/local/lib/python3.10/dist-packages (from spacy<3.8.0,>=3.7.0->ru-core-news-lg==3.7.0) (2.31.0)\n",
            "Requirement already satisfied: pydantic!=1.8,!=1.8.1,<3.0.0,>=1.7.4 in /usr/local/lib/python3.10/dist-packages (from spacy<3.8.0,>=3.7.0->ru-core-news-lg==3.7.0) (1.10.13)\n",
            "Requirement already satisfied: jinja2 in /usr/local/lib/python3.10/dist-packages (from spacy<3.8.0,>=3.7.0->ru-core-news-lg==3.7.0) (3.1.2)\n",
            "Requirement already satisfied: setuptools in /usr/local/lib/python3.10/dist-packages (from spacy<3.8.0,>=3.7.0->ru-core-news-lg==3.7.0) (67.7.2)\n",
            "Requirement already satisfied: packaging>=20.0 in /usr/local/lib/python3.10/dist-packages (from spacy<3.8.0,>=3.7.0->ru-core-news-lg==3.7.0) (23.2)\n",
            "Requirement already satisfied: langcodes<4.0.0,>=3.2.0 in /usr/local/lib/python3.10/dist-packages (from spacy<3.8.0,>=3.7.0->ru-core-news-lg==3.7.0) (3.3.0)\n",
            "Requirement already satisfied: numpy>=1.19.0 in /usr/local/lib/python3.10/dist-packages (from spacy<3.8.0,>=3.7.0->ru-core-news-lg==3.7.0) (1.23.5)\n",
            "Requirement already satisfied: typing-extensions>=4.2.0 in /usr/local/lib/python3.10/dist-packages (from pydantic!=1.8,!=1.8.1,<3.0.0,>=1.7.4->spacy<3.8.0,>=3.7.0->ru-core-news-lg==3.7.0) (4.5.0)\n",
            "Requirement already satisfied: charset-normalizer<4,>=2 in /usr/local/lib/python3.10/dist-packages (from requests<3.0.0,>=2.13.0->spacy<3.8.0,>=3.7.0->ru-core-news-lg==3.7.0) (3.3.0)\n",
            "Requirement already satisfied: idna<4,>=2.5 in /usr/local/lib/python3.10/dist-packages (from requests<3.0.0,>=2.13.0->spacy<3.8.0,>=3.7.0->ru-core-news-lg==3.7.0) (3.4)\n",
            "Requirement already satisfied: urllib3<3,>=1.21.1 in /usr/local/lib/python3.10/dist-packages (from requests<3.0.0,>=2.13.0->spacy<3.8.0,>=3.7.0->ru-core-news-lg==3.7.0) (2.0.6)\n",
            "Requirement already satisfied: certifi>=2017.4.17 in /usr/local/lib/python3.10/dist-packages (from requests<3.0.0,>=2.13.0->spacy<3.8.0,>=3.7.0->ru-core-news-lg==3.7.0) (2023.7.22)\n",
            "Requirement already satisfied: blis<0.8.0,>=0.7.8 in /usr/local/lib/python3.10/dist-packages (from thinc<8.3.0,>=8.1.8->spacy<3.8.0,>=3.7.0->ru-core-news-lg==3.7.0) (0.7.11)\n",
            "Requirement already satisfied: confection<1.0.0,>=0.0.1 in /usr/local/lib/python3.10/dist-packages (from thinc<8.3.0,>=8.1.8->spacy<3.8.0,>=3.7.0->ru-core-news-lg==3.7.0) (0.1.3)\n",
            "Requirement already satisfied: click<9.0.0,>=7.1.1 in /usr/local/lib/python3.10/dist-packages (from typer<0.10.0,>=0.3.0->spacy<3.8.0,>=3.7.0->ru-core-news-lg==3.7.0) (8.1.7)\n",
            "Requirement already satisfied: cloudpathlib<0.17.0,>=0.7.0 in /usr/local/lib/python3.10/dist-packages (from weasel<0.4.0,>=0.1.0->spacy<3.8.0,>=3.7.0->ru-core-news-lg==3.7.0) (0.16.0)\n",
            "Requirement already satisfied: MarkupSafe>=2.0 in /usr/local/lib/python3.10/dist-packages (from jinja2->spacy<3.8.0,>=3.7.0->ru-core-news-lg==3.7.0) (2.1.3)\n",
            "Installing collected packages: pymorphy3-dicts-ru, dawg-python, docopt-ng, pymorphy3, ru-core-news-lg\n",
            "Successfully installed dawg-python-0.7.2 docopt-ng-0.9.0 pymorphy3-1.2.1 pymorphy3-dicts-ru-2.4.417150.4580142 ru-core-news-lg-3.7.0\n",
            "\u001b[38;5;2m✔ Download and installation successful\u001b[0m\n",
            "You can now load the package via spacy.load('ru_core_news_lg')\n"
          ]
        }
      ],
      "source": [
        "!pip install openai\n",
        "!pip install nltk\n",
        "!pip install -U spacy --no-cache-dir\n",
        "!python -m spacy download ru_core_news_lg"
      ]
    },
    {
      "cell_type": "code",
      "execution_count": null,
      "metadata": {
        "colab": {
          "base_uri": "https://localhost:8080/"
        },
        "id": "cmTStfMf82m3",
        "outputId": "6826cc0d-89f0-490e-93e1-cd491778fdfe"
      },
      "outputs": [
        {
          "name": "stderr",
          "output_type": "stream",
          "text": [
            "[nltk_data] Downloading package stopwords to /root/nltk_data...\n",
            "[nltk_data]   Unzipping corpora/stopwords.zip.\n",
            "[nltk_data] Downloading package punkt to /root/nltk_data...\n",
            "[nltk_data]   Unzipping tokenizers/punkt.zip.\n"
          ]
        }
      ],
      "source": [
        "import openai\n",
        "import re\n",
        "import pandas as pd\n",
        "from pandas.io.excel import ExcelWriter\n",
        "import openpyxl\n",
        "import datetime as dt\n",
        "import string\n",
        "from tenacity import (\n",
        "    retry,\n",
        "    stop_after_attempt,\n",
        "    wait_random_exponential,\n",
        ")\n",
        "import nltk\n",
        "from nltk import sent_tokenize\n",
        "nltk.download('stopwords')\n",
        "nltk.download('punkt')\n",
        "import spacy\n",
        "nlp = spacy.load(\"ru_core_news_lg\", disable=['textcat'])"
      ]
    },
    {
      "cell_type": "code",
      "execution_count": null,
      "metadata": {
        "id": "tTj84xOA_ZQ5"
      },
      "outputs": [],
      "source": [
        "# КОНСТАНТЫ\n",
        "\n",
        "openai.api_key = \"\"\n",
        "\n",
        "# НАЗВАНИЕ столбца С ТЕКСТОМ ДЛЯ GPT\n",
        "message_col_name = 'Message'\n",
        "preproc_col_name = 'Preprocessed message'\n",
        "# ===========================================\n",
        "\n",
        "# НАЗВАНИЕ СТОЛБЦА С ДАТОЙ ПИСЬМА\n",
        "column_name_date = 'ReceivedTime'\n",
        "\n",
        "# НАЗВАНИЕ СТОЛБЦА С РЕЗУЛЬТАТОМ GPT\n",
        "neg_col_name = 'Is negative?'\n",
        "type_neg_col_name = 'Type of negative'\n",
        "\n",
        "# УКАЗЫВАЕМ ДАТУ, С КОТОРОЙ НАЧИНАТЬ СМОТРЕТЬ\n",
        "start_date = '2023-09-06'\n",
        "# ===========================================\n",
        "start_date = dt.datetime.strptime(start_date, '%Y-%m-%d').date()\n",
        "\n",
        "# СКОЛЬКО ЗАПИСЕЙ СМОТРЕТЬ В КАЖДОМ ФАЙЛЕ\n",
        "size = 600\n",
        "# ===========================================\n",
        "\n",
        "# УКАЗЫВАЕМ ТЕКУЩИЙ МЕСЯЦ И ГОД\n",
        "month = 'September'\n",
        "year = '2023'"
      ]
    },
    {
      "cell_type": "code",
      "execution_count": null,
      "metadata": {
        "id": "ZiBLoRnS18vV"
      },
      "outputs": [],
      "source": [
        "files = !ls '/content/drive/My Drive/emails for sentiment'\n",
        "files_list = [file_name.strip(\"\\\"' \") for f in files for file_name in re.split('\\t|\\s{2,5}', f) if file_name != '']\n",
        "files_list"
      ]
    },
    {
      "cell_type": "code",
      "execution_count": null,
      "metadata": {
        "id": "6CxJzsjOH5QP"
      },
      "outputs": [],
      "source": [
        "for file_name in files_list:\n",
        "    df = pd.read_excel('/content/drive/My Drive/emails for sentiment/' + file_name, parse_dates=[column_name_date])\n",
        "    # df = pd.read_excel('/content/' + file_name, parse_dates=[column_name_date])\n",
        "    df[column_name_date] = df[column_name_date].dt.date\n",
        "    df = df[df[column_name_date] >= start_date]\n",
        "    print(file_name, df.shape[0])"
      ]
    },
    {
      "cell_type": "code",
      "execution_count": null,
      "metadata": {
        "id": "zwFDiSoJpJvL"
      },
      "outputs": [],
      "source": [
        "pd.set_option('max_colwidth', 200)"
      ]
    },
    {
      "cell_type": "code",
      "execution_count": null,
      "metadata": {
        "id": "q4D0chE0V_oa"
      },
      "outputs": [],
      "source": [
        "punct = '\"#$%&\\'()*+,-./:;<=>@[\\\\]^_`{|}~⚫●⚫••■±°><☒□®©–ø™→–—−•■±°><☒□®©–ø™→'\n",
        "cid_pattern = re.compile(r\"\\[cid:[0-9a-z\\-]+(?:\\.(?:jpg|png)@[0-9A-Z\\.]+\\])?\")\n",
        "digits_pattern = re.compile(r\"[\\d]+\")\n",
        "end_of_line_pattern = re.compile(r\"\\n+\")\n",
        "punct_pattern = re.compile(r'[{}]+'.format(punct))\n",
        "file_path_pattern = re.compile(r'[A-Z]:?[\\\\/]+(?:[\\w\\-]+[\\\\/]+)+[\\w\\-]*')\n",
        "url_pattern = re.compile(r'(?:https?://)?(?:www\\.)?[a-zA-Z0-9@:%._\\\\+~#=]{1,256}\\.[a-zA-Z0-9()]{1,6}(?:[a-zA-Z0-9()@:%_\\\\+.~#?&\\\\/=]*)$')\n",
        "byte_pattern = re.compile(r\"(?:\\xa0|\\u202f)\")\n",
        "english_text_pattern = re.compile(r\"[a-zA-Z]+\")\n",
        "email_pattern=r\"[a-zA-Z0-9._%+-]+@[a-zA-Z0-9.-]+\\.[a-zA-Z]{2,}\"\n",
        "phone_pattern=r\"(\\+\\d{1,2}\\s)?\\(?\\d{1,4}\\)?[\\s.-]?\\d{1,4}[\\s.-]?\\d{1,4}[\\s.-]?\\d{1,4}\"\n",
        "date_pattern=r\"\\b\\d{1,2}[./-]\\d{1,2}[./-]\\d{2,4}\\b\"\n",
        "whitespace_pattern = re.compile(r'\\s{2,}')"
      ]
    },
    {
      "cell_type": "code",
      "execution_count": null,
      "metadata": {
        "id": "-q7i21vB_eMV"
      },
      "outputs": [],
      "source": [
        "#pre-processing\n",
        "def preprocess_text(text):\n",
        "    sentences = sent_tokenize(text)\n",
        "    docs = nlp.pipe(sentences)\n",
        "    stopwords = nltk.corpus.stopwords.words('russian')\n",
        "    lemmatized_text = [tok.text for doc in docs for tok in doc if tok.lemma_ not in stopwords\n",
        "                                and tok.ent_type_ not in ('DATE', 'GPE', 'PERSON', 'MONEY')]\n",
        "    if len(lemmatized_text) > 1250:\n",
        "        lemmatized_text = lemmatized_text[:1250]\n",
        "    text = re.sub(cid_pattern, \"\", ' '.join(lemmatized_text))\n",
        "    text = re.sub(digits_pattern, \"\", text)\n",
        "    text = re.sub(end_of_line_pattern, \" \", text)\n",
        "    text = re.sub(punct_pattern, \" \", text)\n",
        "    text = re.sub(byte_pattern, \"\", text)\n",
        "    text = re.sub(url_pattern, \"\", text)\n",
        "    text = re.sub(email_pattern, \"\", text)\n",
        "    text = re.sub(phone_pattern, \"\", text)\n",
        "    text = re.sub(english_text_pattern, \"\", text)\n",
        "    text = re.sub(whitespace_pattern, ' ', text)\n",
        "    return text.lower()"
      ]
    },
    {
      "cell_type": "code",
      "execution_count": null,
      "metadata": {
        "id": "divbKZ7K8zdT"
      },
      "outputs": [],
      "source": [
        "system = \"\"\"\n",
        "You are a sales manager in a linguistic company. Your job is to analyze communication\n",
        "with clients in the Russian and English languages.\n",
        "If the message is negative, respond with the word \"negative\" and identify also the type of the claim. Respond with one of the following:\n",
        "[\"poor quality translation\", \"missed deadlines\", \"troubles with payment\", \"system/technical failures\", \"translation or layout quality\", \"lack of resources\", \"shifting deadlines\", \"notarization issues\", \"urgency\", \"delivery issues\", \"poor service\"].\n",
        "The output for negative messages should be as follows:\n",
        "\"negative\", \"poor quality translation\"\n",
        "If the message if not negative, respond with \"ok\".\n",
        "\"\"\"\n",
        "\n",
        "@retry(wait=wait_random_exponential(min=1, max=60), stop=stop_after_attempt(6))\n",
        "def completion_with_backoff(**kwargs):\n",
        "    resp = openai.ChatCompletion.create(**kwargs).choices[0].message.content\n",
        "    return resp"
      ]
    },
    {
      "cell_type": "code",
      "execution_count": null,
      "metadata": {
        "id": "f5sciBJYMc-t"
      },
      "outputs": [],
      "source": [
        "def apply_gpt(message, prompt=system, model='gpt-4'):\n",
        "    resp = completion_with_backoff(\n",
        "                model=model,\n",
        "                messages=[\n",
        "                    {\"role\": \"system\", \"content\": prompt},\n",
        "                    {\"role\": \"user\", \"content\": message},\n",
        "                ],\n",
        "                temperature=0,\n",
        "                max_tokens=30\n",
        "                )\n",
        "    if resp not in ('ok', '\"ok\"'):\n",
        "        print('message: ', message)\n",
        "        print('GPT response: ', resp)\n",
        "    return resp"
      ]
    },
    {
      "cell_type": "code",
      "execution_count": null,
      "metadata": {
        "id": "HjMxVUnL81nG"
      },
      "outputs": [],
      "source": [
        "def process_dataset(df, model: str, prompt: str, in_file: str, month: str = month, year: str = year):\n",
        "  df[preproc_col_name] = df[message_col_name].astype('str').apply(preprocess_text)\n",
        "#   col_name_gpt = 'ChatGPT_new' if model==\"gpt-4-0314\" else 'ChatGPT'\n",
        "#   prompt = system2 if model==\"gpt-4-0314\" else system\n",
        "#   is_basic = 'new' if model==\"gpt-4-0314\" else 'basic'\n",
        "  df = df[df[preproc_col_name].str.strip() != '']\n",
        "  df[neg_col_name] = df[preproc_col_name].apply(apply_gpt)\n",
        "  print(f'{len(df)} records processed by {model}, file {file_name}', end='\\n')\n",
        "  df = df[df[neg_col_name].str.contains('negative')]\n",
        "  df[type_neg_col_name] = df[neg_col_name].apply(lambda x: x.split(',')[1].strip('\" ') if len(x.split(',')) > 1 else '')\n",
        "  df[neg_col_name] = df[neg_col_name].apply(lambda x: x.split(',')[0].strip('\" '))\n",
        "  df.drop(preproc_col_name, axis=1, inplace=True)\n",
        "#   file_name = f'/content/drive/My Drive/results sentiment/{in_file[:-5]}_sentiment_{month}_{year}_{is_basic}.xlsx'\n",
        "#   file_name = f'/content/drive/My Drive/results sentiment/{in_file[:-5]}_sentiment_{month}_{year}.xlsx'\n",
        "#   try:\n",
        "#     with pd.ExcelWriter(file_name, mode='a', engine='openpyxl') as writer:\n",
        "#       df.to_excel(writer, index=False)\n",
        "#   except FileNotFoundError:\n",
        "#     with pd.ExcelWriter(file_name, mode='w', engine='openpyxl') as writer:\n",
        "#       df.to_excel(writer, index=False)\n",
        "  print(f'Количество негативных писем: ', df.shape[0], end='\\n')\n",
        "  return df"
      ]
    },
    {
      "cell_type": "code",
      "execution_count": null,
      "metadata": {
        "colab": {
          "background_save": true
        },
        "id": "phz2C8aGq1RC"
      },
      "outputs": [],
      "source": [
        "for file_name in files_list:\n",
        "    df = pd.read_excel('/content/drive/My Drive/emails for sentiment/' + file_name, parse_dates=[column_name_date])\n",
        "    print()\n",
        "    # df = pd.read_excel('/content/' + file_name, parse_dates=[column_name_date])\n",
        "    df[column_name_date] = df[column_name_date].dt.date\n",
        "    df = df[df[column_name_date] >= start_date]\n",
        "    # df = process_dataset(df, model=\"gpt-3.5-turbo\", prompt=system, in_file=file_name)\n",
        "    # df_negative = df[df['ChatGPT'].str.contains('negative', case=False)]\n",
        "    # df_final = process_dataset(df_negative, model=\"gpt-4-0314\", prompt=system2, in_file=file_name)\n",
        "    df_final = process_dataset(df, model=\"gpt-4\", prompt=system, in_file=file_name)\n",
        "    df_final.to_excel(f'/content/drive/My Drive/results sentiment/{file_name[:-5]}_negative_{month}_{year}.xlsx', index=False)\n",
        "    print(f'Обработан файл {file_name}', end='\\n\\n')\n",
        "    print('==================================================================================', end='\\n\\n')"
      ]
    },
    {
      "cell_type": "code",
      "execution_count": null,
      "metadata": {
        "id": "ms92s-FdUhnP"
      },
      "outputs": [],
      "source": [
        "df_neg = pd.DataFrame()\n",
        "files = !ls '/content/drive/My Drive/results sentiment'\n",
        "for file_name in files:\n",
        "    if 'negative' in file_name:\n",
        "        file_name = file_name.strip(\"'\")\n",
        "        df = pd.read_excel(f'/content/drive/My Drive/results sentiment/{file_name}')\n",
        "        df_neg = pd.concat([df_neg, df])"
      ]
    },
    {
      "cell_type": "code",
      "execution_count": null,
      "metadata": {
        "colab": {
          "base_uri": "https://localhost:8080/"
        },
        "id": "n8mh6oAUV6zS",
        "outputId": "56f09038-ce10-421d-8653-15e722d34173"
      },
      "outputs": [
        {
          "data": {
            "text/plain": [
              "(711, 7)"
            ]
          },
          "execution_count": 20,
          "metadata": {},
          "output_type": "execute_result"
        }
      ],
      "source": [
        "df_neg.shape"
      ]
    },
    {
      "cell_type": "code",
      "execution_count": null,
      "metadata": {
        "id": "gmxicbn1Dyb-"
      },
      "outputs": [],
      "source": [
        "df_neg.to_excel(f'/content/drive/My Drive/results sentiment/all_negative_{month}_{year}.xlsx', index=False)"
      ]
    },
    {
      "cell_type": "code",
      "execution_count": null,
      "metadata": {
        "colab": {
          "base_uri": "https://localhost:8080/"
        },
        "id": "HmsRL8IVqxLt",
        "outputId": "1e8f0662-73e5-4b27-a7eb-508e0d8532ef"
      },
      "outputs": [
        {
          "data": {
            "text/plain": [
              "(109, 8)"
            ]
          },
          "execution_count": 17,
          "metadata": {},
          "output_type": "execute_result"
        }
      ],
      "source": [
        "df_neg = df_final[df_final['GPT'].str.contains('negative')]\n",
        "df_neg.shape"
      ]
    },
    {
      "cell_type": "code",
      "execution_count": null,
      "metadata": {
        "colab": {
          "base_uri": "https://localhost:8080/",
          "height": 1000
        },
        "id": "oWp5KmIPrt5R",
        "outputId": "6c6355ae-97f4-4135-defe-3721b976f6bc"
      },
      "outputs": [
        {
          "data": {
            "text/html": [
              "\n",
              "  <div id=\"df-69091685-cb6a-474a-9571-665748119721\" class=\"colab-df-container\">\n",
              "    <div>\n",
              "<style scoped>\n",
              "    .dataframe tbody tr th:only-of-type {\n",
              "        vertical-align: middle;\n",
              "    }\n",
              "\n",
              "    .dataframe tbody tr th {\n",
              "        vertical-align: top;\n",
              "    }\n",
              "\n",
              "    .dataframe thead th {\n",
              "        text-align: right;\n",
              "    }\n",
              "</style>\n",
              "<table border=\"1\" class=\"dataframe\">\n",
              "  <thead>\n",
              "    <tr style=\"text-align: right;\">\n",
              "      <th></th>\n",
              "      <th>From</th>\n",
              "      <th>To</th>\n",
              "      <th>ReceivedTime</th>\n",
              "      <th>Subject</th>\n",
              "      <th>Message</th>\n",
              "      <th>Entire correspondence</th>\n",
              "      <th>Conversation ID</th>\n",
              "      <th>GPT</th>\n",
              "    </tr>\n",
              "  </thead>\n",
              "  <tbody>\n",
              "    <tr>\n",
              "      <th>8299</th>\n",
              "      <td>m.eganian@awatera.com</td>\n",
              "      <td>evgeny.tonkikh@novartis.com</td>\n",
              "      <td>2023-08-10</td>\n",
              "      <td>RE: перевод</td>\n",
              "      <td>евгений к сожалению оба перевода будут уже завтра г москва бц золото ул золотая</td>\n",
              "      <td>Евгений, к сожалению, оба перевода будут уже завтра \\n\\n\\n\\n\\n\\n\\nMargarita Eganian\\n\\nManager of Support Team \\n\\n \\n\\nг. Москва, БЦ \"Золото\", \\nул. Золотая, 11\\n\\n\\nAWATERA.COM [http://awatera.c...</td>\n",
              "      <td>AAQkAGNjMDhjYjQ0LTE4NWYtNDkyZC04OGE4LTI1ZDc3Mzc5M2U4YwAQABfvUracKT5LkIBcWx0sqBM=</td>\n",
              "      <td>\"slightly negative\", \"missed deadlines\"</td>\n",
              "    </tr>\n",
              "    <tr>\n",
              "      <th>8313</th>\n",
              "      <td>m.eganian@awatera.com</td>\n",
              "      <td>Marina.Poroikova@sanofi.com</td>\n",
              "      <td>2023-08-10</td>\n",
              "      <td>S_SNF-3794</td>\n",
              "      <td>марина добрый вечер ! направляю готовый перевод прошу прощения за задержку спасибо ! г москва бц золото ул золотая</td>\n",
              "      <td>Марина, добрый вечер!\\nНаправляю готовый перевод.\\n\\nПрошу прощения за задержку.\\n\\nСпасибо!\\n\\n\\n\\n\\n\\n\\n\\n\\nMargarita Eganian\\n\\nManager of Support Team \\n\\n \\n\\nг. Москва, БЦ \"Золото\", \\nул. Зо...</td>\n",
              "      <td>AAQkAGNjMDhjYjQ0LTE4NWYtNDkyZC04OGE4LTI1ZDc3Mzc5M2U4YwAQALa_rqHT3khGquQdIuQ5xSI=</td>\n",
              "      <td>\"slightly negative\", \"missed deadlines\"</td>\n",
              "    </tr>\n",
              "    <tr>\n",
              "      <th>8336</th>\n",
              "      <td>Ekaterina.Fatkina@sanofi.com</td>\n",
              "      <td>m.eganian@awatera.com</td>\n",
              "      <td>2023-08-11</td>\n",
              "      <td>FW: Смета по заказу S_SNF-4103</td>\n",
              "      <td>маргарита добрый день ! подскажите пожалуйста по оплате заказа в личном кабинете он указан в статусе “ ” и я не могу соответственно согласовать заказ для оплаты в нашей системе не могли бы вы поме...</td>\n",
              "      <td>Маргарита, добрый день!\\n\\n \\n\\nПодскажите, пожалуйста, по оплате заказа S_SNF-4103: в личном кабинете он указан\\nв статусе “In Progress”, и я не могу, соответственно согласовать заказ для\\nоплаты...</td>\n",
              "      <td>AAQkAGNjMDhjYjQ0LTE4NWYtNDkyZC04OGE4LTI1ZDc3Mzc5M2U4YwAQACTsa_QgKLVBijNolsrgU58=</td>\n",
              "      <td>\"slightly negative\", \"troubles with payment</td>\n",
              "    </tr>\n",
              "    <tr>\n",
              "      <th>8366</th>\n",
              "      <td>m.eganian@awatera.com</td>\n",
              "      <td>Ekaterina.Fatkina@sanofi.com</td>\n",
              "      <td>2023-08-11</td>\n",
              "      <td>RE: Смета по заказу S_SNF-4103</td>\n",
              "      <td>екатерина немного задержали направляю перевод спасибо ! г москва бц золото ул золотая</td>\n",
              "      <td>Екатерина, немного задержали, направляю перевод.\\n\\n\\nСпасибо!\\n\\n\\n\\n\\n\\n\\nMargarita Eganian\\n\\nManager of Support Team \\n\\n \\n\\nг. Москва, БЦ \"Золото\", \\nул. Золотая, 11\\n\\n\\nAWATERA.COM [http:/...</td>\n",
              "      <td>AAQkAGNjMDhjYjQ0LTE4NWYtNDkyZC04OGE4LTI1ZDc3Mzc5M2U4YwAQACTsa_QgKLVBijNolsrgU58=</td>\n",
              "      <td>\"slightly negative\", \"missed deadlines\"</td>\n",
              "    </tr>\n",
              "    <tr>\n",
              "      <th>8380</th>\n",
              "      <td>Polina.Kholina@sanofi.com</td>\n",
              "      <td>m.eganian@awatera.com</td>\n",
              "      <td>2023-08-11</td>\n",
              "      <td>RE: Смета по заказу S_SNF-4105</td>\n",
              "      <td>маргарита добрый вечер ! мб это баг заказ пропал из личного кабинета не могу завести ро спасибо заранее !</td>\n",
              "      <td>Маргарита, добрый вечер!\\n\\n \\n\\nМб это баг, заказ пропал из личного кабинета, не могу завести РО.\\n\\nСпасибо заранее!\\n\\n \\n\\nBest regards,\\n\\nPolina Alekseeva (Kholina)\\n\\nRegulatory Affairs Ass...</td>\n",
              "      <td>AAQkAGNjMDhjYjQ0LTE4NWYtNDkyZC04OGE4LTI1ZDc3Mzc5M2U4YwAQAP93lvQPYWJKnBVCh05zl8s=</td>\n",
              "      <td>The sentiment of the message is \"slightly negative</td>\n",
              "    </tr>\n",
              "  </tbody>\n",
              "</table>\n",
              "</div>\n",
              "    <div class=\"colab-df-buttons\">\n",
              "\n",
              "  <div class=\"colab-df-container\">\n",
              "    <button class=\"colab-df-convert\" onclick=\"convertToInteractive('df-69091685-cb6a-474a-9571-665748119721')\"\n",
              "            title=\"Convert this dataframe to an interactive table.\"\n",
              "            style=\"display:none;\">\n",
              "\n",
              "  <svg xmlns=\"http://www.w3.org/2000/svg\" height=\"24px\" viewBox=\"0 -960 960 960\">\n",
              "    <path d=\"M120-120v-720h720v720H120Zm60-500h600v-160H180v160Zm220 220h160v-160H400v160Zm0 220h160v-160H400v160ZM180-400h160v-160H180v160Zm440 0h160v-160H620v160ZM180-180h160v-160H180v160Zm440 0h160v-160H620v160Z\"/>\n",
              "  </svg>\n",
              "    </button>\n",
              "\n",
              "  <style>\n",
              "    .colab-df-container {\n",
              "      display:flex;\n",
              "      gap: 12px;\n",
              "    }\n",
              "\n",
              "    .colab-df-convert {\n",
              "      background-color: #E8F0FE;\n",
              "      border: none;\n",
              "      border-radius: 50%;\n",
              "      cursor: pointer;\n",
              "      display: none;\n",
              "      fill: #1967D2;\n",
              "      height: 32px;\n",
              "      padding: 0 0 0 0;\n",
              "      width: 32px;\n",
              "    }\n",
              "\n",
              "    .colab-df-convert:hover {\n",
              "      background-color: #E2EBFA;\n",
              "      box-shadow: 0px 1px 2px rgba(60, 64, 67, 0.3), 0px 1px 3px 1px rgba(60, 64, 67, 0.15);\n",
              "      fill: #174EA6;\n",
              "    }\n",
              "\n",
              "    .colab-df-buttons div {\n",
              "      margin-bottom: 4px;\n",
              "    }\n",
              "\n",
              "    [theme=dark] .colab-df-convert {\n",
              "      background-color: #3B4455;\n",
              "      fill: #D2E3FC;\n",
              "    }\n",
              "\n",
              "    [theme=dark] .colab-df-convert:hover {\n",
              "      background-color: #434B5C;\n",
              "      box-shadow: 0px 1px 3px 1px rgba(0, 0, 0, 0.15);\n",
              "      filter: drop-shadow(0px 1px 2px rgba(0, 0, 0, 0.3));\n",
              "      fill: #FFFFFF;\n",
              "    }\n",
              "  </style>\n",
              "\n",
              "    <script>\n",
              "      const buttonEl =\n",
              "        document.querySelector('#df-69091685-cb6a-474a-9571-665748119721 button.colab-df-convert');\n",
              "      buttonEl.style.display =\n",
              "        google.colab.kernel.accessAllowed ? 'block' : 'none';\n",
              "\n",
              "      async function convertToInteractive(key) {\n",
              "        const element = document.querySelector('#df-69091685-cb6a-474a-9571-665748119721');\n",
              "        const dataTable =\n",
              "          await google.colab.kernel.invokeFunction('convertToInteractive',\n",
              "                                                    [key], {});\n",
              "        if (!dataTable) return;\n",
              "\n",
              "        const docLinkHtml = 'Like what you see? Visit the ' +\n",
              "          '<a target=\"_blank\" href=https://colab.research.google.com/notebooks/data_table.ipynb>data table notebook</a>'\n",
              "          + ' to learn more about interactive tables.';\n",
              "        element.innerHTML = '';\n",
              "        dataTable['output_type'] = 'display_data';\n",
              "        await google.colab.output.renderOutput(dataTable, element);\n",
              "        const docLink = document.createElement('div');\n",
              "        docLink.innerHTML = docLinkHtml;\n",
              "        element.appendChild(docLink);\n",
              "      }\n",
              "    </script>\n",
              "  </div>\n",
              "\n",
              "\n",
              "<div id=\"df-9232a5df-81cf-4658-a50d-fa8ac29a4564\">\n",
              "  <button class=\"colab-df-quickchart\" onclick=\"quickchart('df-9232a5df-81cf-4658-a50d-fa8ac29a4564')\"\n",
              "            title=\"Suggest charts.\"\n",
              "            style=\"display:none;\">\n",
              "\n",
              "<svg xmlns=\"http://www.w3.org/2000/svg\" height=\"24px\"viewBox=\"0 0 24 24\"\n",
              "     width=\"24px\">\n",
              "    <g>\n",
              "        <path d=\"M19 3H5c-1.1 0-2 .9-2 2v14c0 1.1.9 2 2 2h14c1.1 0 2-.9 2-2V5c0-1.1-.9-2-2-2zM9 17H7v-7h2v7zm4 0h-2V7h2v10zm4 0h-2v-4h2v4z\"/>\n",
              "    </g>\n",
              "</svg>\n",
              "  </button>\n",
              "\n",
              "<style>\n",
              "  .colab-df-quickchart {\n",
              "      --bg-color: #E8F0FE;\n",
              "      --fill-color: #1967D2;\n",
              "      --hover-bg-color: #E2EBFA;\n",
              "      --hover-fill-color: #174EA6;\n",
              "      --disabled-fill-color: #AAA;\n",
              "      --disabled-bg-color: #DDD;\n",
              "  }\n",
              "\n",
              "  [theme=dark] .colab-df-quickchart {\n",
              "      --bg-color: #3B4455;\n",
              "      --fill-color: #D2E3FC;\n",
              "      --hover-bg-color: #434B5C;\n",
              "      --hover-fill-color: #FFFFFF;\n",
              "      --disabled-bg-color: #3B4455;\n",
              "      --disabled-fill-color: #666;\n",
              "  }\n",
              "\n",
              "  .colab-df-quickchart {\n",
              "    background-color: var(--bg-color);\n",
              "    border: none;\n",
              "    border-radius: 50%;\n",
              "    cursor: pointer;\n",
              "    display: none;\n",
              "    fill: var(--fill-color);\n",
              "    height: 32px;\n",
              "    padding: 0;\n",
              "    width: 32px;\n",
              "  }\n",
              "\n",
              "  .colab-df-quickchart:hover {\n",
              "    background-color: var(--hover-bg-color);\n",
              "    box-shadow: 0 1px 2px rgba(60, 64, 67, 0.3), 0 1px 3px 1px rgba(60, 64, 67, 0.15);\n",
              "    fill: var(--button-hover-fill-color);\n",
              "  }\n",
              "\n",
              "  .colab-df-quickchart-complete:disabled,\n",
              "  .colab-df-quickchart-complete:disabled:hover {\n",
              "    background-color: var(--disabled-bg-color);\n",
              "    fill: var(--disabled-fill-color);\n",
              "    box-shadow: none;\n",
              "  }\n",
              "\n",
              "  .colab-df-spinner {\n",
              "    border: 2px solid var(--fill-color);\n",
              "    border-color: transparent;\n",
              "    border-bottom-color: var(--fill-color);\n",
              "    animation:\n",
              "      spin 1s steps(1) infinite;\n",
              "  }\n",
              "\n",
              "  @keyframes spin {\n",
              "    0% {\n",
              "      border-color: transparent;\n",
              "      border-bottom-color: var(--fill-color);\n",
              "      border-left-color: var(--fill-color);\n",
              "    }\n",
              "    20% {\n",
              "      border-color: transparent;\n",
              "      border-left-color: var(--fill-color);\n",
              "      border-top-color: var(--fill-color);\n",
              "    }\n",
              "    30% {\n",
              "      border-color: transparent;\n",
              "      border-left-color: var(--fill-color);\n",
              "      border-top-color: var(--fill-color);\n",
              "      border-right-color: var(--fill-color);\n",
              "    }\n",
              "    40% {\n",
              "      border-color: transparent;\n",
              "      border-right-color: var(--fill-color);\n",
              "      border-top-color: var(--fill-color);\n",
              "    }\n",
              "    60% {\n",
              "      border-color: transparent;\n",
              "      border-right-color: var(--fill-color);\n",
              "    }\n",
              "    80% {\n",
              "      border-color: transparent;\n",
              "      border-right-color: var(--fill-color);\n",
              "      border-bottom-color: var(--fill-color);\n",
              "    }\n",
              "    90% {\n",
              "      border-color: transparent;\n",
              "      border-bottom-color: var(--fill-color);\n",
              "    }\n",
              "  }\n",
              "</style>\n",
              "\n",
              "  <script>\n",
              "    async function quickchart(key) {\n",
              "      const quickchartButtonEl =\n",
              "        document.querySelector('#' + key + ' button');\n",
              "      quickchartButtonEl.disabled = true;  // To prevent multiple clicks.\n",
              "      quickchartButtonEl.classList.add('colab-df-spinner');\n",
              "      try {\n",
              "        const charts = await google.colab.kernel.invokeFunction(\n",
              "            'suggestCharts', [key], {});\n",
              "      } catch (error) {\n",
              "        console.error('Error during call to suggestCharts:', error);\n",
              "      }\n",
              "      quickchartButtonEl.classList.remove('colab-df-spinner');\n",
              "      quickchartButtonEl.classList.add('colab-df-quickchart-complete');\n",
              "    }\n",
              "    (() => {\n",
              "      let quickchartButtonEl =\n",
              "        document.querySelector('#df-9232a5df-81cf-4658-a50d-fa8ac29a4564 button');\n",
              "      quickchartButtonEl.style.display =\n",
              "        google.colab.kernel.accessAllowed ? 'block' : 'none';\n",
              "    })();\n",
              "  </script>\n",
              "</div>\n",
              "    </div>\n",
              "  </div>\n"
            ],
            "text/plain": [
              "                              From                            To ReceivedTime  \\\n",
              "8299         m.eganian@awatera.com   evgeny.tonkikh@novartis.com   2023-08-10   \n",
              "8313         m.eganian@awatera.com   Marina.Poroikova@sanofi.com   2023-08-10   \n",
              "8336  Ekaterina.Fatkina@sanofi.com         m.eganian@awatera.com   2023-08-11   \n",
              "8366         m.eganian@awatera.com  Ekaterina.Fatkina@sanofi.com   2023-08-11   \n",
              "8380     Polina.Kholina@sanofi.com         m.eganian@awatera.com   2023-08-11   \n",
              "\n",
              "                             Subject  \\\n",
              "8299                     RE: перевод   \n",
              "8313                      S_SNF-3794   \n",
              "8336  FW: Смета по заказу S_SNF-4103   \n",
              "8366  RE: Смета по заказу S_SNF-4103   \n",
              "8380  RE: Смета по заказу S_SNF-4105   \n",
              "\n",
              "                                                                                                                                                                                                      Message  \\\n",
              "8299                                                                                                                         евгений к сожалению оба перевода будут уже завтра г москва бц золото ул золотая    \n",
              "8313                                                                                      марина добрый вечер ! направляю готовый перевод прошу прощения за задержку спасибо ! г москва бц золото ул золотая    \n",
              "8336  маргарита добрый день ! подскажите пожалуйста по оплате заказа в личном кабинете он указан в статусе “ ” и я не могу соответственно согласовать заказ для оплаты в нашей системе не могли бы вы поме...   \n",
              "8366                                                                                                                   екатерина немного задержали направляю перевод спасибо ! г москва бц золото ул золотая    \n",
              "8380                                                                                               маргарита добрый вечер ! мб это баг заказ пропал из личного кабинета не могу завести ро спасибо заранее !    \n",
              "\n",
              "                                                                                                                                                                                        Entire correspondence  \\\n",
              "8299  Евгений, к сожалению, оба перевода будут уже завтра \\n\\n\\n\\n\\n\\n\\nMargarita Eganian\\n\\nManager of Support Team \\n\\n \\n\\nг. Москва, БЦ \"Золото\", \\nул. Золотая, 11\\n\\n\\nAWATERA.COM [http://awatera.c...   \n",
              "8313  Марина, добрый вечер!\\nНаправляю готовый перевод.\\n\\nПрошу прощения за задержку.\\n\\nСпасибо!\\n\\n\\n\\n\\n\\n\\n\\n\\nMargarita Eganian\\n\\nManager of Support Team \\n\\n \\n\\nг. Москва, БЦ \"Золото\", \\nул. Зо...   \n",
              "8336  Маргарита, добрый день!\\n\\n \\n\\nПодскажите, пожалуйста, по оплате заказа S_SNF-4103: в личном кабинете он указан\\nв статусе “In Progress”, и я не могу, соответственно согласовать заказ для\\nоплаты...   \n",
              "8366  Екатерина, немного задержали, направляю перевод.\\n\\n\\nСпасибо!\\n\\n\\n\\n\\n\\n\\nMargarita Eganian\\n\\nManager of Support Team \\n\\n \\n\\nг. Москва, БЦ \"Золото\", \\nул. Золотая, 11\\n\\n\\nAWATERA.COM [http:/...   \n",
              "8380  Маргарита, добрый вечер!\\n\\n \\n\\nМб это баг, заказ пропал из личного кабинета, не могу завести РО.\\n\\nСпасибо заранее!\\n\\n \\n\\nBest regards,\\n\\nPolina Alekseeva (Kholina)\\n\\nRegulatory Affairs Ass...   \n",
              "\n",
              "                                                                       Conversation ID  \\\n",
              "8299  AAQkAGNjMDhjYjQ0LTE4NWYtNDkyZC04OGE4LTI1ZDc3Mzc5M2U4YwAQABfvUracKT5LkIBcWx0sqBM=   \n",
              "8313  AAQkAGNjMDhjYjQ0LTE4NWYtNDkyZC04OGE4LTI1ZDc3Mzc5M2U4YwAQALa_rqHT3khGquQdIuQ5xSI=   \n",
              "8336  AAQkAGNjMDhjYjQ0LTE4NWYtNDkyZC04OGE4LTI1ZDc3Mzc5M2U4YwAQACTsa_QgKLVBijNolsrgU58=   \n",
              "8366  AAQkAGNjMDhjYjQ0LTE4NWYtNDkyZC04OGE4LTI1ZDc3Mzc5M2U4YwAQACTsa_QgKLVBijNolsrgU58=   \n",
              "8380  AAQkAGNjMDhjYjQ0LTE4NWYtNDkyZC04OGE4LTI1ZDc3Mzc5M2U4YwAQAP93lvQPYWJKnBVCh05zl8s=   \n",
              "\n",
              "                                                     GPT  \n",
              "8299             \"slightly negative\", \"missed deadlines\"  \n",
              "8313             \"slightly negative\", \"missed deadlines\"  \n",
              "8336         \"slightly negative\", \"troubles with payment  \n",
              "8366             \"slightly negative\", \"missed deadlines\"  \n",
              "8380  The sentiment of the message is \"slightly negative  "
            ]
          },
          "execution_count": 18,
          "metadata": {},
          "output_type": "execute_result"
        }
      ],
      "source": [
        "df_neg.head()"
      ]
    }
  ],
  "metadata": {
    "colab": {
      "provenance": [],
      "authorship_tag": "ABX9TyM9OQW4Zbw/3c1JprRXDi7J",
      "include_colab_link": true
    },
    "kernelspec": {
      "display_name": "Python 3",
      "name": "python3"
    },
    "language_info": {
      "name": "python"
    }
  },
  "nbformat": 4,
  "nbformat_minor": 0
}