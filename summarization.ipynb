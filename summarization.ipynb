{
  "nbformat": 4,
  "nbformat_minor": 0,
  "metadata": {
    "colab": {
      "provenance": [],
      "authorship_tag": "ABX9TyObH22OxxX+eL5Tj3lrKgaJ",
      "include_colab_link": true
    },
    "kernelspec": {
      "name": "python3",
      "display_name": "Python 3"
    },
    "language_info": {
      "name": "python"
    }
  },
  "cells": [
    {
      "cell_type": "markdown",
      "metadata": {
        "id": "view-in-github",
        "colab_type": "text"
      },
      "source": [
        "<a href=\"https://colab.research.google.com/github/JennyFrost/ML_and_LLMs/blob/main/summarization.ipynb\" target=\"_parent\"><img src=\"https://colab.research.google.com/assets/colab-badge.svg\" alt=\"Open In Colab\"/></a>"
      ]
    },
    {
      "cell_type": "code",
      "execution_count": null,
      "metadata": {
        "colab": {
          "base_uri": "https://localhost:8080/"
        },
        "id": "432cyIGTGK5Z",
        "outputId": "664f704b-d026-4384-f850-2f8e2dbdaf80"
      },
      "outputs": [
        {
          "output_type": "stream",
          "name": "stdout",
          "text": [
            "Looking in indexes: https://pypi.org/simple, https://us-python.pkg.dev/colab-wheels/public/simple/\n",
            "Collecting openai\n",
            "  Downloading openai-0.27.8-py3-none-any.whl (73 kB)\n",
            "\u001b[2K     \u001b[90m━━━━━━━━━━━━━━━━━━━━━━━━━━━━━━━━━━━━━━━━\u001b[0m \u001b[32m73.6/73.6 kB\u001b[0m \u001b[31m6.7 MB/s\u001b[0m eta \u001b[36m0:00:00\u001b[0m\n",
            "\u001b[?25hRequirement already satisfied: requests>=2.20 in /usr/local/lib/python3.10/dist-packages (from openai) (2.27.1)\n",
            "Requirement already satisfied: tqdm in /usr/local/lib/python3.10/dist-packages (from openai) (4.65.0)\n",
            "Collecting aiohttp (from openai)\n",
            "  Downloading aiohttp-3.8.4-cp310-cp310-manylinux_2_17_x86_64.manylinux2014_x86_64.whl (1.0 MB)\n",
            "\u001b[2K     \u001b[90m━━━━━━━━━━━━━━━━━━━━━━━━━━━━━━━━━━━━━━━━\u001b[0m \u001b[32m1.0/1.0 MB\u001b[0m \u001b[31m61.7 MB/s\u001b[0m eta \u001b[36m0:00:00\u001b[0m\n",
            "\u001b[?25hRequirement already satisfied: urllib3<1.27,>=1.21.1 in /usr/local/lib/python3.10/dist-packages (from requests>=2.20->openai) (1.26.15)\n",
            "Requirement already satisfied: certifi>=2017.4.17 in /usr/local/lib/python3.10/dist-packages (from requests>=2.20->openai) (2022.12.7)\n",
            "Requirement already satisfied: charset-normalizer~=2.0.0 in /usr/local/lib/python3.10/dist-packages (from requests>=2.20->openai) (2.0.12)\n",
            "Requirement already satisfied: idna<4,>=2.5 in /usr/local/lib/python3.10/dist-packages (from requests>=2.20->openai) (3.4)\n",
            "Requirement already satisfied: attrs>=17.3.0 in /usr/local/lib/python3.10/dist-packages (from aiohttp->openai) (23.1.0)\n",
            "Collecting multidict<7.0,>=4.5 (from aiohttp->openai)\n",
            "  Downloading multidict-6.0.4-cp310-cp310-manylinux_2_17_x86_64.manylinux2014_x86_64.whl (114 kB)\n",
            "\u001b[2K     \u001b[90m━━━━━━━━━━━━━━━━━━━━━━━━━━━━━━━━━━━━━━\u001b[0m \u001b[32m114.5/114.5 kB\u001b[0m \u001b[31m14.7 MB/s\u001b[0m eta \u001b[36m0:00:00\u001b[0m\n",
            "\u001b[?25hCollecting async-timeout<5.0,>=4.0.0a3 (from aiohttp->openai)\n",
            "  Downloading async_timeout-4.0.2-py3-none-any.whl (5.8 kB)\n",
            "Collecting yarl<2.0,>=1.0 (from aiohttp->openai)\n",
            "  Downloading yarl-1.9.2-cp310-cp310-manylinux_2_17_x86_64.manylinux2014_x86_64.whl (268 kB)\n",
            "\u001b[2K     \u001b[90m━━━━━━━━━━━━━━━━━━━━━━━━━━━━━━━━━━━━━━\u001b[0m \u001b[32m268.8/268.8 kB\u001b[0m \u001b[31m28.7 MB/s\u001b[0m eta \u001b[36m0:00:00\u001b[0m\n",
            "\u001b[?25hCollecting frozenlist>=1.1.1 (from aiohttp->openai)\n",
            "  Downloading frozenlist-1.3.3-cp310-cp310-manylinux_2_5_x86_64.manylinux1_x86_64.manylinux_2_17_x86_64.manylinux2014_x86_64.whl (149 kB)\n",
            "\u001b[2K     \u001b[90m━━━━━━━━━━━━━━━━━━━━━━━━━━━━━━━━━━━━━━\u001b[0m \u001b[32m149.6/149.6 kB\u001b[0m \u001b[31m18.1 MB/s\u001b[0m eta \u001b[36m0:00:00\u001b[0m\n",
            "\u001b[?25hCollecting aiosignal>=1.1.2 (from aiohttp->openai)\n",
            "  Downloading aiosignal-1.3.1-py3-none-any.whl (7.6 kB)\n",
            "Installing collected packages: multidict, frozenlist, async-timeout, yarl, aiosignal, aiohttp, openai\n",
            "Successfully installed aiohttp-3.8.4 aiosignal-1.3.1 async-timeout-4.0.2 frozenlist-1.3.3 multidict-6.0.4 openai-0.27.8 yarl-1.9.2\n"
          ]
        }
      ],
      "source": [
        "!pip install openai\n",
        "!pip install python-docx"
      ]
    },
    {
      "cell_type": "code",
      "source": [
        "import openai\n",
        "from docx import Document"
      ],
      "metadata": {
        "id": "sZEAvFA0a2Ib"
      },
      "execution_count": null,
      "outputs": []
    },
    {
      "cell_type": "code",
      "source": [
        "def extract_text_from_docx(doc_path):\n",
        "    doc = Document(doc_path)\n",
        "    text = \" \".join([para.text for para in doc.paragraphs])\n",
        "    return text"
      ],
      "metadata": {
        "id": "CtEP7C1t5ZQ6"
      },
      "execution_count": null,
      "outputs": []
    },
    {
      "cell_type": "code",
      "source": [
        "file_name = '/content/Синхронизация Дубай-Маркетинг-20230605_153302-Запись собрания.docx'"
      ],
      "metadata": {
        "id": "sf7ly2-b6aW5"
      },
      "execution_count": null,
      "outputs": []
    },
    {
      "cell_type": "code",
      "source": [
        "meeting_text = extract_text_from_docx(file_name)"
      ],
      "metadata": {
        "id": "hLQf0S3a6Srh"
      },
      "execution_count": null,
      "outputs": []
    },
    {
      "cell_type": "markdown",
      "source": [
        "$$GPT$$"
      ],
      "metadata": {
        "id": "6fVojlcoMETS"
      }
    },
    {
      "cell_type": "code",
      "source": [
        "openai.api_key = \"\""
      ],
      "metadata": {
        "id": "NyiUJg1-MQNW"
      },
      "execution_count": null,
      "outputs": []
    },
    {
      "cell_type": "code",
      "source": [
        "system_message = \"You are an office assistant.\"\n",
        "user_message_base = \"\"\"\n",
        "                  Write a concise summary of this meeting minutes covering\n",
        "                  main points and highlighting what needs to be done by whom.\n",
        "                  Write in Russian.\n",
        "               \"\"\" + '\\n'"
      ],
      "metadata": {
        "id": "trs39HpvMbIR"
      },
      "execution_count": null,
      "outputs": []
    },
    {
      "cell_type": "code",
      "source": [
        "def summarize(user_message, system_message=system_message, model=\"gpt-4-0314\", temp=.7):\n",
        "  response = openai.ChatCompletion.create(\n",
        "          model=model,\n",
        "          messages=[{\"role\": \"system\", \"content\": system_message},\n",
        "                    {\"role\": \"user\", \"content\": user_message}],\n",
        "          temperature=temp,\n",
        "          top_p=1,\n",
        "          frequency_penalty=0,\n",
        "          presence_penalty=0\n",
        "        )\n",
        "  output_summary = response[\"choices\"][0][\"message\"][\"content\"]\n",
        "  return output_summary"
      ],
      "metadata": {
        "id": "PVoUY38SN6ON"
      },
      "execution_count": null,
      "outputs": []
    },
    {
      "cell_type": "code",
      "source": [
        "meeting_text_sents = meeting_text.split('.')\n",
        "for n in range(2, 7):\n",
        "    num_pieces = len(meeting_text_sents) // n\n",
        "    pieces = []\n",
        "    start = 0\n",
        "    end = num_pieces\n",
        "    print(f'Разбиение текста на {n} частей')\n",
        "    print()\n",
        "    for piece in range(n):\n",
        "      text_piece = meeting_text_sents[start:end]\n",
        "      start += num_pieces\n",
        "      end += num_pieces\n",
        "      user_message = user_message_base + ' '.join(text_piece)\n",
        "      if piece == 0:\n",
        "        user_message += \"Also mention the purpose of the meeting.\" + '\\n'\n",
        "      if piece == n - 1:\n",
        "        end = len(meeting_text_sents)\n",
        "        user_message += \"Also mention the outcome of the meeting.\" + '\\n'\n",
        "      try:\n",
        "          print(f'Часть {piece+1}')\n",
        "          print()\n",
        "          user_message = user_message_base + ' '.join(text_piece)\n",
        "          print(summarize(user_message=user_message))\n",
        "          print()\n",
        "      except openai.error.InvalidRequestError:\n",
        "          print('Части слишком большие')\n",
        "          print('=======================================================================================================================================')\n",
        "          print()\n",
        "          break\n",
        "      print('===========================================================================================================================================')\n",
        "      print()\n"
      ],
      "metadata": {
        "id": "OxE65T3BiCYs"
      },
      "execution_count": null,
      "outputs": []
    }
  ]
}